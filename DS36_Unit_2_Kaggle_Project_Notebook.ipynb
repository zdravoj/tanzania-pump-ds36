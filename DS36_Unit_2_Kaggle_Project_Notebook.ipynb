{
  "nbformat": 4,
  "nbformat_minor": 0,
  "metadata": {
    "colab": {
      "name": "DS36 Unit 2 Kaggle Project Notebook",
      "provenance": [],
      "collapsed_sections": [],
      "toc_visible": true
    },
    "kernelspec": {
      "name": "python3",
      "display_name": "Python 3"
    },
    "language_info": {
      "name": "python"
    }
  },
  "cells": [
    {
      "cell_type": "markdown",
      "source": [
        "# Unit 2 Kaggle Project Notebook"
      ],
      "metadata": {
        "id": "2nm0ZQcmkP36"
      }
    },
    {
      "cell_type": "markdown",
      "source": [
        "## Objectives\n",
        "\n",
        "\n",
        "\n",
        "* Prepare probabilities table for prediction categories\n",
        "* Prepare confusion matrix for prediction categories\n",
        "* Convert confusion matrix into percentages?\n",
        "    * False positives on 'functional' are highest priority\n",
        "    * False positives on 'functional needs repair' that are true 'not functional' are next highest priority\n",
        "    * Calculate sensitivity and specificity?\n",
        "* Update training set probabilities using new percentages?\n",
        "    * Bayes Theorem? Some variant?\n",
        "* Compare prior probabilities to updated probabilities\n",
        "    * Prior probabilities: Initial training and validation sets\n",
        "    * Updated probabilities: Training and validation sets with theorem applied\n",
        "\n"
      ],
      "metadata": {
        "id": "aQNY9_A1mzeV"
      }
    },
    {
      "cell_type": "markdown",
      "source": [
        "## Navigate to folder with data csv's"
      ],
      "metadata": {
        "id": "wGTQ4iS1eAhz"
      }
    },
    {
      "cell_type": "code",
      "source": [
        "# Mounts Google Drive in Colab\n",
        "from google.colab import drive\n",
        "drive.mount('/content/gdrive')"
      ],
      "metadata": {
        "id": "sW5nSwsgks2q",
        "colab": {
          "base_uri": "https://localhost:8080/"
        },
        "outputId": "6f3abf36-990f-45d4-88f0-4f1309cd088c"
      },
      "execution_count": null,
      "outputs": [
        {
          "output_type": "stream",
          "name": "stdout",
          "text": [
            "Mounted at /content/gdrive\n"
          ]
        }
      ]
    },
    {
      "cell_type": "code",
      "source": [
        "# Navigate to folder with necessary files\n",
        "%cd /content/gdrive/My Drive/Kaggle"
      ],
      "metadata": {
        "colab": {
          "base_uri": "https://localhost:8080/"
        },
        "id": "n2PxksrukxHq",
        "outputId": "30868e08-4ed9-43dd-e394-45d28e9838a2"
      },
      "execution_count": null,
      "outputs": [
        {
          "output_type": "stream",
          "name": "stdout",
          "text": [
            "/content/gdrive/My Drive/Kaggle\n"
          ]
        }
      ]
    },
    {
      "cell_type": "code",
      "source": [
        "# Check that needed files are in folder\n",
        "!ls"
      ],
      "metadata": {
        "colab": {
          "base_uri": "https://localhost:8080/"
        },
        "id": "ogrUAJp7kxkb",
        "outputId": "f960b8e0-6921-4713-b8fa-76dbf0de9603"
      },
      "execution_count": null,
      "outputs": [
        {
          "output_type": "stream",
          "name": "stdout",
          "text": [
            "basic_dt_prediction.csv\t\t\t sample_submission.csv\n",
            "basic_rf_custom_analysis_prediction.csv  submission_baseline.csv\n",
            "basic_rfcv_prediction.csv\t\t test_features.csv\n",
            "basic_rf_prediction.csv\t\t\t train_features.csv\n",
            "kaggle.json\t\t\t\t train_labels.csv\n"
          ]
        }
      ]
    },
    {
      "cell_type": "markdown",
      "source": [
        "## Import Libraries"
      ],
      "metadata": {
        "id": "DhwQFQLAeJDJ"
      }
    },
    {
      "cell_type": "code",
      "execution_count": null,
      "metadata": {
        "id": "TMNOgWi3kPLi"
      },
      "outputs": [],
      "source": [
        "# install updated versions of libraries\n",
        "%%capture\n",
        "!pip install category_encoders==2.*\n",
        "!pip install pandas-profiling==2.*"
      ]
    },
    {
      "cell_type": "code",
      "source": [
        "# import needed libraries\n",
        "import numpy as np\n",
        "import pandas as pd\n",
        "import matplotlib.pyplot as plt\n",
        "from pandas_profiling import ProfileReport\n",
        "from sklearn.model_selection import train_test_split\n",
        "from sklearn.ensemble import RandomForestClassifier\n",
        "from sklearn.ensemble import GradientBoostingClassifier\n",
        "from xgboost import XGBClassifier\n",
        "from sklearn.pipeline import make_pipeline\n",
        "from category_encoders import OrdinalEncoder\n",
        "from sklearn.impute import SimpleImputer\n",
        "from sklearn.model_selection import RandomizedSearchCV, GridSearchCV\n",
        "from sklearn.model_selection import cross_val_score\n",
        "from sklearn.inspection import permutation_importance"
      ],
      "metadata": {
        "id": "E9k5ZiDilDvr"
      },
      "execution_count": null,
      "outputs": []
    },
    {
      "cell_type": "markdown",
      "source": [
        "## Data Science Zone!"
      ],
      "metadata": {
        "id": "XehZP3W6eOlH"
      }
    },
    {
      "cell_type": "markdown",
      "source": [
        "### Data Wrangling and EDA"
      ],
      "metadata": {
        "id": "ZEKeB_vf6Nm1"
      }
    },
    {
      "cell_type": "code",
      "source": [
        "# wrangles csv's into dataframe format\n",
        "def wrangle(fm_path, tv_path=None):\n",
        "    if tv_path:\n",
        "        df = pd.merge(pd.read_csv(fm_path, \n",
        "                                  na_values=[0, -2.000000e-08]),\n",
        "                      pd.read_csv(tv_path)).set_index('id')\n",
        "    else:\n",
        "        df = pd.read_csv(fm_path, \n",
        "                         na_values=[0, -2.000000e-08],\n",
        "                         index_col='id')\n",
        "\n",
        "    # Create pump_age column\n",
        "    # yields negative values, keep 'construction_year'\n",
        "    # df['pump_age'] = df['recorded_year'] - df['construction_year']    \n",
        "    # df.insert(14, 'pump_age', pump_age)   \n",
        "\n",
        "    # Drop unnecessary columns\n",
        "    df.drop(columns= \n",
        "    ['amount_tsh',\n",
        "    'date_recorded',\n",
        "    'funder',\n",
        "    'gps_height',\n",
        "    'installer',\n",
        "    'wpt_name',\n",
        "    'num_private',\n",
        "    'subvillage',\n",
        "    'ward',\n",
        "    'recorded_by',\n",
        "    'scheme_name',\n",
        "    'extraction_type',\n",
        "    'extraction_type_class',\n",
        "    'management',\n",
        "    'payment_type',\n",
        "    'quality_group',\n",
        "    'quantity_group',\n",
        "    'source_type',\n",
        "    'source_class',\n",
        "    'waterpoint_type_group'],\n",
        "    inplace=True)    \n",
        "\n",
        "    # convert int and bool columns to objects for null fills\n",
        "    df['region_code'] = df['region_code'].astype(object)\n",
        "    df['district_code'] = df['district_code'].astype(object)\n",
        "    df['public_meeting'] = df['public_meeting'].astype(object)\n",
        "    df['permit'] = df['permit'].astype(object)\n",
        "\n",
        "    # fill category nulls with specified values\n",
        "    df['region_code'].fillna('null', inplace=True)\n",
        "    df['district_code'].fillna('null', inplace=True)\n",
        "    df['public_meeting'].fillna('null', inplace=True)\n",
        "    df['permit'].fillna('null', inplace=True)\n",
        "    df['scheme_management'].fillna('other_null', inplace=True)\n",
        "\n",
        "    return df"
      ],
      "metadata": {
        "id": "GHYa8EbglJmq"
      },
      "execution_count": null,
      "outputs": []
    },
    {
      "cell_type": "code",
      "source": [
        "# ENGINEER\n",
        "    # age\n",
        "        # NULLS (float) (mean)\n",
        "# KEEP\n",
        "    # latitude\n",
        "        # NULLS (accounted for)\n",
        "    # longitude\n",
        "        # NULLS (accounted for)\n",
        "    # basin\n",
        "    # region\n",
        "    # region_code\n",
        "        # NULLS (int, categorical) (null) (convert to object)\n",
        "    # district_code\n",
        "        # NULLS (int, categorical) (null) (convert to object)\n",
        "    # lga\n",
        "    # population\n",
        "        # NULLS (int) (mean)\n",
        "    # public_meeting\n",
        "        # NULLS (bool) (null)\n",
        "    # scheme_management\n",
        "        # NULLS (categorical) (other_null)\n",
        "    # permit\n",
        "        # NULLS (bool) (null)\n",
        "    # extraction_type_group\n",
        "    # management_group\n",
        "    # payment\n",
        "    # water_quality\n",
        "    # quantity\n",
        "    # source\n",
        "    # waterpoint_type\n",
        "# DROP\n",
        "    # amount_tsh\n",
        "    # date_recorded\n",
        "    # construction_year\n",
        "    # funder\n",
        "    # gps_height\n",
        "    # installer\n",
        "    # wpt_name\n",
        "    # num_private\n",
        "    # subvillage\n",
        "    # ward\n",
        "    # recorded_by\n",
        "    # scheme_name\n",
        "    # extraction_type\n",
        "    # extraction_type_class\n",
        "    # management\n",
        "    # payment_type\n",
        "    # quality_group\n",
        "    # source_type, source_class\n",
        "    # waterpoint_type_group"
      ],
      "metadata": {
        "id": "_TOW0j7aJu1G"
      },
      "execution_count": null,
      "outputs": []
    },
    {
      "cell_type": "code",
      "source": [
        "# call wrangle function on csv's\n",
        "df = wrangle('train_features.csv', 'train_labels.csv')\n",
        "X_test = wrangle('test_features.csv')"
      ],
      "metadata": {
        "id": "rJAjYrfQlRZ6"
      },
      "execution_count": null,
      "outputs": []
    },
    {
      "cell_type": "code",
      "source": [
        "# preview usable data\n",
        "df.head()"
      ],
      "metadata": {
        "colab": {
          "base_uri": "https://localhost:8080/",
          "height": 423
        },
        "id": "r-XI7dyDlVRy",
        "outputId": "fe318351-db17-4fd3-f575-c4b0dedd132a"
      },
      "execution_count": null,
      "outputs": [
        {
          "output_type": "execute_result",
          "data": {
            "text/html": [
              "\n",
              "  <div id=\"df-eafbd62a-6529-4ac5-98fd-b1b49f83b045\">\n",
              "    <div class=\"colab-df-container\">\n",
              "      <div>\n",
              "<style scoped>\n",
              "    .dataframe tbody tr th:only-of-type {\n",
              "        vertical-align: middle;\n",
              "    }\n",
              "\n",
              "    .dataframe tbody tr th {\n",
              "        vertical-align: top;\n",
              "    }\n",
              "\n",
              "    .dataframe thead th {\n",
              "        text-align: right;\n",
              "    }\n",
              "</style>\n",
              "<table border=\"1\" class=\"dataframe\">\n",
              "  <thead>\n",
              "    <tr style=\"text-align: right;\">\n",
              "      <th></th>\n",
              "      <th>longitude</th>\n",
              "      <th>latitude</th>\n",
              "      <th>basin</th>\n",
              "      <th>region</th>\n",
              "      <th>region_code</th>\n",
              "      <th>district_code</th>\n",
              "      <th>lga</th>\n",
              "      <th>population</th>\n",
              "      <th>public_meeting</th>\n",
              "      <th>scheme_management</th>\n",
              "      <th>permit</th>\n",
              "      <th>construction_year</th>\n",
              "      <th>extraction_type_group</th>\n",
              "      <th>management_group</th>\n",
              "      <th>payment</th>\n",
              "      <th>water_quality</th>\n",
              "      <th>quantity</th>\n",
              "      <th>source</th>\n",
              "      <th>waterpoint_type</th>\n",
              "      <th>status_group</th>\n",
              "    </tr>\n",
              "    <tr>\n",
              "      <th>id</th>\n",
              "      <th></th>\n",
              "      <th></th>\n",
              "      <th></th>\n",
              "      <th></th>\n",
              "      <th></th>\n",
              "      <th></th>\n",
              "      <th></th>\n",
              "      <th></th>\n",
              "      <th></th>\n",
              "      <th></th>\n",
              "      <th></th>\n",
              "      <th></th>\n",
              "      <th></th>\n",
              "      <th></th>\n",
              "      <th></th>\n",
              "      <th></th>\n",
              "      <th></th>\n",
              "      <th></th>\n",
              "      <th></th>\n",
              "      <th></th>\n",
              "    </tr>\n",
              "  </thead>\n",
              "  <tbody>\n",
              "    <tr>\n",
              "      <th>454.0</th>\n",
              "      <td>35.426020</td>\n",
              "      <td>-4.227446</td>\n",
              "      <td>Internal</td>\n",
              "      <td>Manyara</td>\n",
              "      <td>21</td>\n",
              "      <td>1.0</td>\n",
              "      <td>Babati</td>\n",
              "      <td>160.0</td>\n",
              "      <td>True</td>\n",
              "      <td>Water Board</td>\n",
              "      <td>True</td>\n",
              "      <td>1998.0</td>\n",
              "      <td>gravity</td>\n",
              "      <td>user-group</td>\n",
              "      <td>pay per bucket</td>\n",
              "      <td>soft</td>\n",
              "      <td>insufficient</td>\n",
              "      <td>spring</td>\n",
              "      <td>communal standpipe</td>\n",
              "      <td>functional</td>\n",
              "    </tr>\n",
              "    <tr>\n",
              "      <th>510.0</th>\n",
              "      <td>35.510074</td>\n",
              "      <td>-5.724555</td>\n",
              "      <td>Internal</td>\n",
              "      <td>Dodoma</td>\n",
              "      <td>1</td>\n",
              "      <td>6.0</td>\n",
              "      <td>Bahi</td>\n",
              "      <td>NaN</td>\n",
              "      <td>True</td>\n",
              "      <td>VWC</td>\n",
              "      <td>True</td>\n",
              "      <td>NaN</td>\n",
              "      <td>india mark ii</td>\n",
              "      <td>user-group</td>\n",
              "      <td>never pay</td>\n",
              "      <td>soft</td>\n",
              "      <td>enough</td>\n",
              "      <td>shallow well</td>\n",
              "      <td>hand pump</td>\n",
              "      <td>functional</td>\n",
              "    </tr>\n",
              "    <tr>\n",
              "      <th>14146.0</th>\n",
              "      <td>32.499866</td>\n",
              "      <td>-9.081222</td>\n",
              "      <td>Lake Rukwa</td>\n",
              "      <td>Mbeya</td>\n",
              "      <td>12</td>\n",
              "      <td>6.0</td>\n",
              "      <td>Mbozi</td>\n",
              "      <td>NaN</td>\n",
              "      <td>True</td>\n",
              "      <td>VWC</td>\n",
              "      <td>False</td>\n",
              "      <td>NaN</td>\n",
              "      <td>other</td>\n",
              "      <td>user-group</td>\n",
              "      <td>never pay</td>\n",
              "      <td>soft</td>\n",
              "      <td>enough</td>\n",
              "      <td>shallow well</td>\n",
              "      <td>other</td>\n",
              "      <td>non functional</td>\n",
              "    </tr>\n",
              "    <tr>\n",
              "      <th>47410.0</th>\n",
              "      <td>34.060484</td>\n",
              "      <td>-8.830208</td>\n",
              "      <td>Rufiji</td>\n",
              "      <td>Mbeya</td>\n",
              "      <td>12</td>\n",
              "      <td>7.0</td>\n",
              "      <td>Mbarali</td>\n",
              "      <td>NaN</td>\n",
              "      <td>True</td>\n",
              "      <td>VWC</td>\n",
              "      <td>True</td>\n",
              "      <td>NaN</td>\n",
              "      <td>gravity</td>\n",
              "      <td>user-group</td>\n",
              "      <td>pay monthly</td>\n",
              "      <td>soft</td>\n",
              "      <td>insufficient</td>\n",
              "      <td>river</td>\n",
              "      <td>communal standpipe</td>\n",
              "      <td>non functional</td>\n",
              "    </tr>\n",
              "    <tr>\n",
              "      <th>1288.0</th>\n",
              "      <td>37.032690</td>\n",
              "      <td>-6.040787</td>\n",
              "      <td>Wami / Ruvu</td>\n",
              "      <td>Morogoro</td>\n",
              "      <td>5</td>\n",
              "      <td>1.0</td>\n",
              "      <td>Kilosa</td>\n",
              "      <td>120.0</td>\n",
              "      <td>True</td>\n",
              "      <td>VWC</td>\n",
              "      <td>True</td>\n",
              "      <td>1997.0</td>\n",
              "      <td>other</td>\n",
              "      <td>user-group</td>\n",
              "      <td>pay when scheme fails</td>\n",
              "      <td>salty</td>\n",
              "      <td>enough</td>\n",
              "      <td>shallow well</td>\n",
              "      <td>other</td>\n",
              "      <td>non functional</td>\n",
              "    </tr>\n",
              "  </tbody>\n",
              "</table>\n",
              "</div>\n",
              "      <button class=\"colab-df-convert\" onclick=\"convertToInteractive('df-eafbd62a-6529-4ac5-98fd-b1b49f83b045')\"\n",
              "              title=\"Convert this dataframe to an interactive table.\"\n",
              "              style=\"display:none;\">\n",
              "        \n",
              "  <svg xmlns=\"http://www.w3.org/2000/svg\" height=\"24px\"viewBox=\"0 0 24 24\"\n",
              "       width=\"24px\">\n",
              "    <path d=\"M0 0h24v24H0V0z\" fill=\"none\"/>\n",
              "    <path d=\"M18.56 5.44l.94 2.06.94-2.06 2.06-.94-2.06-.94-.94-2.06-.94 2.06-2.06.94zm-11 1L8.5 8.5l.94-2.06 2.06-.94-2.06-.94L8.5 2.5l-.94 2.06-2.06.94zm10 10l.94 2.06.94-2.06 2.06-.94-2.06-.94-.94-2.06-.94 2.06-2.06.94z\"/><path d=\"M17.41 7.96l-1.37-1.37c-.4-.4-.92-.59-1.43-.59-.52 0-1.04.2-1.43.59L10.3 9.45l-7.72 7.72c-.78.78-.78 2.05 0 2.83L4 21.41c.39.39.9.59 1.41.59.51 0 1.02-.2 1.41-.59l7.78-7.78 2.81-2.81c.8-.78.8-2.07 0-2.86zM5.41 20L4 18.59l7.72-7.72 1.47 1.35L5.41 20z\"/>\n",
              "  </svg>\n",
              "      </button>\n",
              "      \n",
              "  <style>\n",
              "    .colab-df-container {\n",
              "      display:flex;\n",
              "      flex-wrap:wrap;\n",
              "      gap: 12px;\n",
              "    }\n",
              "\n",
              "    .colab-df-convert {\n",
              "      background-color: #E8F0FE;\n",
              "      border: none;\n",
              "      border-radius: 50%;\n",
              "      cursor: pointer;\n",
              "      display: none;\n",
              "      fill: #1967D2;\n",
              "      height: 32px;\n",
              "      padding: 0 0 0 0;\n",
              "      width: 32px;\n",
              "    }\n",
              "\n",
              "    .colab-df-convert:hover {\n",
              "      background-color: #E2EBFA;\n",
              "      box-shadow: 0px 1px 2px rgba(60, 64, 67, 0.3), 0px 1px 3px 1px rgba(60, 64, 67, 0.15);\n",
              "      fill: #174EA6;\n",
              "    }\n",
              "\n",
              "    [theme=dark] .colab-df-convert {\n",
              "      background-color: #3B4455;\n",
              "      fill: #D2E3FC;\n",
              "    }\n",
              "\n",
              "    [theme=dark] .colab-df-convert:hover {\n",
              "      background-color: #434B5C;\n",
              "      box-shadow: 0px 1px 3px 1px rgba(0, 0, 0, 0.15);\n",
              "      filter: drop-shadow(0px 1px 2px rgba(0, 0, 0, 0.3));\n",
              "      fill: #FFFFFF;\n",
              "    }\n",
              "  </style>\n",
              "\n",
              "      <script>\n",
              "        const buttonEl =\n",
              "          document.querySelector('#df-eafbd62a-6529-4ac5-98fd-b1b49f83b045 button.colab-df-convert');\n",
              "        buttonEl.style.display =\n",
              "          google.colab.kernel.accessAllowed ? 'block' : 'none';\n",
              "\n",
              "        async function convertToInteractive(key) {\n",
              "          const element = document.querySelector('#df-eafbd62a-6529-4ac5-98fd-b1b49f83b045');\n",
              "          const dataTable =\n",
              "            await google.colab.kernel.invokeFunction('convertToInteractive',\n",
              "                                                     [key], {});\n",
              "          if (!dataTable) return;\n",
              "\n",
              "          const docLinkHtml = 'Like what you see? Visit the ' +\n",
              "            '<a target=\"_blank\" href=https://colab.research.google.com/notebooks/data_table.ipynb>data table notebook</a>'\n",
              "            + ' to learn more about interactive tables.';\n",
              "          element.innerHTML = '';\n",
              "          dataTable['output_type'] = 'display_data';\n",
              "          await google.colab.output.renderOutput(dataTable, element);\n",
              "          const docLink = document.createElement('div');\n",
              "          docLink.innerHTML = docLinkHtml;\n",
              "          element.appendChild(docLink);\n",
              "        }\n",
              "      </script>\n",
              "    </div>\n",
              "  </div>\n",
              "  "
            ],
            "text/plain": [
              "         longitude  latitude  ...     waterpoint_type    status_group\n",
              "id                            ...                                    \n",
              "454.0    35.426020 -4.227446  ...  communal standpipe      functional\n",
              "510.0    35.510074 -5.724555  ...           hand pump      functional\n",
              "14146.0  32.499866 -9.081222  ...               other  non functional\n",
              "47410.0  34.060484 -8.830208  ...  communal standpipe  non functional\n",
              "1288.0   37.032690 -6.040787  ...               other  non functional\n",
              "\n",
              "[5 rows x 20 columns]"
            ]
          },
          "metadata": {},
          "execution_count": 10
        }
      ]
    },
    {
      "cell_type": "code",
      "source": [
        "print(df.shape)\n",
        "df.info()"
      ],
      "metadata": {
        "colab": {
          "base_uri": "https://localhost:8080/"
        },
        "id": "cErO5IrAWy-l",
        "outputId": "32f7d63c-66d8-4925-a3b6-d471047d4e1a"
      },
      "execution_count": null,
      "outputs": [
        {
          "output_type": "stream",
          "name": "stdout",
          "text": [
            "(47519, 20)\n",
            "<class 'pandas.core.frame.DataFrame'>\n",
            "Float64Index: 47519 entries, 454.0 to 23812.0\n",
            "Data columns (total 20 columns):\n",
            " #   Column                 Non-Null Count  Dtype  \n",
            "---  ------                 --------------  -----  \n",
            " 0   longitude              46086 non-null  float64\n",
            " 1   latitude               46086 non-null  float64\n",
            " 2   basin                  47519 non-null  object \n",
            " 3   region                 47519 non-null  object \n",
            " 4   region_code            47519 non-null  int64  \n",
            " 5   district_code          47519 non-null  object \n",
            " 6   lga                    47519 non-null  object \n",
            " 7   population             30472 non-null  float64\n",
            " 8   public_meeting         47519 non-null  object \n",
            " 9   scheme_management      47519 non-null  object \n",
            " 10  permit                 47519 non-null  object \n",
            " 11  construction_year      31017 non-null  float64\n",
            " 12  extraction_type_group  47519 non-null  object \n",
            " 13  management_group       47519 non-null  object \n",
            " 14  payment                47519 non-null  object \n",
            " 15  water_quality          47519 non-null  object \n",
            " 16  quantity               47519 non-null  object \n",
            " 17  source                 47519 non-null  object \n",
            " 18  waterpoint_type        47519 non-null  object \n",
            " 19  status_group           47519 non-null  object \n",
            "dtypes: float64(4), int64(1), object(15)\n",
            "memory usage: 7.6+ MB\n"
          ]
        }
      ]
    },
    {
      "cell_type": "code",
      "source": [
        "# separates feature matrix and target vector\n",
        "X = df.drop(columns= ['status_group'])\n",
        "y = df['status_group']"
      ],
      "metadata": {
        "id": "sF6z1Y-VllNz"
      },
      "execution_count": null,
      "outputs": []
    },
    {
      "cell_type": "markdown",
      "source": [
        "### Modeling and Tuning"
      ],
      "metadata": {
        "id": "ghRUI6ovmmGy"
      }
    },
    {
      "cell_type": "code",
      "source": [
        "# creates required sets\n",
        "# X_train, X_val_, y_train, y_val_ = train_test_split(X, y, test_size= 0.3, random_state= 42)\n",
        "# X_cM, X_val, y_cM, y_val = train_test_split(X_val_, y_val_, test_size= 0.5, random_state= 42)"
      ],
      "metadata": {
        "id": "lHR1iVk_lq9D"
      },
      "execution_count": null,
      "outputs": []
    },
    {
      "cell_type": "markdown",
      "source": [
        "NOTE: Baseline accuracy for this notebook will be different since our focus is to determine the pumps which are 'not functional' or 'functional needs repair'"
      ],
      "metadata": {
        "id": "cFb27OnIqUiK"
      }
    },
    {
      "cell_type": "code",
      "source": [
        "# baseline accuracy\n",
        "baseline_acc = y.value_counts(normalize= True).max()\n",
        "print('Baseline Accuracy Scores:\\n', baseline_acc)"
      ],
      "metadata": {
        "colab": {
          "base_uri": "https://localhost:8080/"
        },
        "id": "EIlN5VThlrmD",
        "outputId": "5405e69f-7401-4084-dbf4-e5112491f8fe"
      },
      "execution_count": null,
      "outputs": [
        {
          "output_type": "stream",
          "name": "stdout",
          "text": [
            "Baseline Accuracy Scores:\n",
            " 0.5429828068772491\n"
          ]
        }
      ]
    },
    {
      "cell_type": "code",
      "source": [
        "# creates model\n",
        "model_rf = make_pipeline(\n",
        "    OrdinalEncoder(),\n",
        "    SimpleImputer(),\n",
        "    RandomForestClassifier(n_jobs= -1, random_state= 42)\n",
        ")"
      ],
      "metadata": {
        "id": "c8tjHfw6lsBj"
      },
      "execution_count": null,
      "outputs": []
    },
    {
      "cell_type": "code",
      "source": [
        "param_grid = {\n",
        "    'simpleimputer__strategy' : ['mean', 'median', 'most_frequent'],\n",
        "    # 'randomforestclassifier__max_depth' : range(12, 26, 2),\n",
        "    'randomforestclassifier__n_estimators' : range(70, 110, 10),\n",
        "    'randomforestclassifier__max_leaf_nodes' : range(100, 300, 25)\n",
        "}\n",
        "\n",
        "model_rfrs = RandomizedSearchCV(\n",
        "    model_rf,\n",
        "    param_distributions= param_grid,\n",
        "    n_jobs=-1,\n",
        "    cv=5,\n",
        "    verbose=1\n",
        ")"
      ],
      "metadata": {
        "id": "52dROxOqYcWW"
      },
      "execution_count": null,
      "outputs": []
    },
    {
      "cell_type": "code",
      "source": [
        "model_rfrs.fit(X, y)"
      ],
      "metadata": {
        "colab": {
          "base_uri": "https://localhost:8080/"
        },
        "id": "XyzAQRc3abEW",
        "outputId": "699a4bec-05aa-4108-8785-0835ec570c3f"
      },
      "execution_count": null,
      "outputs": [
        {
          "output_type": "stream",
          "name": "stdout",
          "text": [
            "Fitting 5 folds for each of 10 candidates, totalling 50 fits\n"
          ]
        },
        {
          "output_type": "execute_result",
          "data": {
            "text/plain": [
              "RandomizedSearchCV(cv=5,\n",
              "                   estimator=Pipeline(steps=[('ordinalencoder',\n",
              "                                              OrdinalEncoder()),\n",
              "                                             ('simpleimputer', SimpleImputer()),\n",
              "                                             ('randomforestclassifier',\n",
              "                                              RandomForestClassifier(n_jobs=-1,\n",
              "                                                                     random_state=42))]),\n",
              "                   n_jobs=-1,\n",
              "                   param_distributions={'randomforestclassifier__max_leaf_nodes': range(100, 300, 25),\n",
              "                                        'randomforestclassifier__n_estimators': range(70, 110, 10),\n",
              "                                        'simpleimputer__strategy': ['mean',\n",
              "                                                                    'median',\n",
              "                                                                    'most_frequent']},\n",
              "                   verbose=1)"
            ]
          },
          "metadata": {},
          "execution_count": 311
        }
      ]
    },
    {
      "cell_type": "code",
      "source": [
        "print(model_rfrs.best_score_)\n",
        "print(model_rfrs.best_params_)"
      ],
      "metadata": {
        "colab": {
          "base_uri": "https://localhost:8080/"
        },
        "id": "SExU5xJPaOih",
        "outputId": "c5bfd6ba-dca5-4f50-d548-1831b69a93b4"
      },
      "execution_count": null,
      "outputs": [
        {
          "output_type": "stream",
          "name": "stdout",
          "text": [
            "0.7721120629636362\n",
            "{'simpleimputer__strategy': 'median', 'randomforestclassifier__n_estimators': 90, 'randomforestclassifier__max_leaf_nodes': 275}\n"
          ]
        }
      ]
    },
    {
      "cell_type": "code",
      "source": [
        "model_rf_tuned = make_pipeline(\n",
        "    OrdinalEncoder(),\n",
        "    SimpleImputer(strategy='median'),\n",
        "    RandomForestClassifier(max_depth=19,\n",
        "                           n_estimators=81,\n",
        "                           n_jobs=-1,\n",
        "                           random_state=42)\n",
        ")"
      ],
      "metadata": {
        "id": "r7f69JR1h4IS"
      },
      "execution_count": null,
      "outputs": []
    },
    {
      "cell_type": "code",
      "source": [
        "cv_score_rf_tuned = cross_val_score(model_rf_tuned, X, y, cv=10, n_jobs=-1)"
      ],
      "metadata": {
        "id": "xYnL9hw1iiR1"
      },
      "execution_count": null,
      "outputs": []
    },
    {
      "cell_type": "code",
      "source": [
        "print('Cross Validation Mean Accuracy:', cv_score_rf_tuned.mean())\n",
        "print('Cross Validation StDev Accuracy:', cv_score_rf_tuned.std())"
      ],
      "metadata": {
        "colab": {
          "base_uri": "https://localhost:8080/"
        },
        "id": "CFkcCtq2iugB",
        "outputId": "ae5bf9ff-3cc4-4942-92a3-9f9db437a406"
      },
      "execution_count": null,
      "outputs": [
        {
          "output_type": "stream",
          "name": "stdout",
          "text": [
            "Cross Validation Mean Accuracy: 0.8052357398442433\n",
            "Cross Validation StDev Accuracy: 0.0031522638381931\n"
          ]
        }
      ]
    },
    {
      "cell_type": "code",
      "source": [
        "model_rf_tuned.fit(X, y)"
      ],
      "metadata": {
        "colab": {
          "base_uri": "https://localhost:8080/"
        },
        "id": "AHRSvFhg0lpR",
        "outputId": "b36a5be5-7185-42ee-c360-e941c7984728"
      },
      "execution_count": null,
      "outputs": [
        {
          "output_type": "execute_result",
          "data": {
            "text/plain": [
              "Pipeline(steps=[('ordinalencoder',\n",
              "                 OrdinalEncoder(cols=['basin', 'region', 'district_code', 'lga',\n",
              "                                      'public_meeting', 'scheme_management',\n",
              "                                      'permit', 'extraction_type_group',\n",
              "                                      'management_group', 'payment',\n",
              "                                      'water_quality', 'quantity', 'source',\n",
              "                                      'waterpoint_type'],\n",
              "                                mapping=[{'col': 'basin',\n",
              "                                          'data_type': dtype('O'),\n",
              "                                          'mapping': Internal                   1\n",
              "Lake Rukwa                 2\n",
              "Rufiji                     3\n",
              "Wami / Ruvu                4\n",
              "Lake Victo...\n",
              "unknown                 10\n",
              "NaN                     -2\n",
              "dtype: int64},\n",
              "                                         {'col': 'waterpoint_type',\n",
              "                                          'data_type': dtype('O'),\n",
              "                                          'mapping': communal standpipe             1\n",
              "hand pump                      2\n",
              "other                          3\n",
              "communal standpipe multiple    4\n",
              "improved spring                5\n",
              "cattle trough                  6\n",
              "dam                            7\n",
              "NaN                           -2\n",
              "dtype: int64}])),\n",
              "                ('simpleimputer', SimpleImputer(strategy='median')),\n",
              "                ('randomforestclassifier',\n",
              "                 RandomForestClassifier(max_depth=19, n_estimators=81,\n",
              "                                        n_jobs=-1, random_state=42))])"
            ]
          },
          "metadata": {},
          "execution_count": 17
        }
      ]
    },
    {
      "cell_type": "code",
      "source": [
        "model_xgb = make_pipeline(\n",
        "    OrdinalEncoder(),\n",
        "    SimpleImputer(),\n",
        "    XGBClassifier(\n",
        "                 random_state=42,\n",
        "                 n_jobs=-1)\n",
        ")"
      ],
      "metadata": {
        "id": "VILtCtvq8kas"
      },
      "execution_count": null,
      "outputs": []
    },
    {
      "cell_type": "code",
      "source": [
        "xgb_param_grid = {\n",
        "    'simpleimputer__strategy' : ['mean', 'median'],\n",
        "    'xgbclassifier__max_depth' : range(1, 11, 3),\n",
        "    'xgbclassifier__n_estimators' : range(50, 151, 50),\n",
        "    'xgbclassifier__learning_rate' : [0.01, 0.1, 0.2, 0.3]\n",
        "}\n",
        "\n",
        "model_xgb_gs = GridSearchCV(\n",
        "    model_xgb,\n",
        "    param_grid = xgb_param_grid,\n",
        "    cv=5,\n",
        "    n_jobs=-1,\n",
        "    verbose=1\n",
        ")"
      ],
      "metadata": {
        "id": "Y0xmXi1y-Cku"
      },
      "execution_count": null,
      "outputs": []
    },
    {
      "cell_type": "code",
      "source": [
        "model_xgb_gs.fit(X, y)"
      ],
      "metadata": {
        "colab": {
          "base_uri": "https://localhost:8080/"
        },
        "id": "txNFPFLaAl3a",
        "outputId": "0c1c737b-c3be-4f31-e901-84ddcf009549"
      },
      "execution_count": null,
      "outputs": [
        {
          "output_type": "stream",
          "name": "stdout",
          "text": [
            "Fitting 5 folds for each of 96 candidates, totalling 480 fits\n"
          ]
        },
        {
          "output_type": "execute_result",
          "data": {
            "text/plain": [
              "GridSearchCV(cv=5,\n",
              "             estimator=Pipeline(steps=[('ordinalencoder', OrdinalEncoder()),\n",
              "                                       ('simpleimputer', SimpleImputer()),\n",
              "                                       ('xgbclassifier',\n",
              "                                        XGBClassifier(n_jobs=-1,\n",
              "                                                      random_state=42))]),\n",
              "             n_jobs=-1,\n",
              "             param_grid={'simpleimputer__strategy': ['mean', 'median'],\n",
              "                         'xgbclassifier__learning_rate': [0.01, 0.1, 0.2, 0.3],\n",
              "                         'xgbclassifier__max_depth': range(1, 11, 3),\n",
              "                         'xgbclassifier__n_estimators': range(50, 151, 50)},\n",
              "             verbose=1)"
            ]
          },
          "metadata": {},
          "execution_count": 29
        }
      ]
    },
    {
      "cell_type": "code",
      "source": [
        "print(model_xgb_gs.best_score_)\n",
        "print(model_xgb_gs.best_params_)"
      ],
      "metadata": {
        "colab": {
          "base_uri": "https://localhost:8080/"
        },
        "id": "2c4zz7oWew3H",
        "outputId": "665673dd-ce09-40cb-b585-238cba295177"
      },
      "execution_count": null,
      "outputs": [
        {
          "output_type": "stream",
          "name": "stdout",
          "text": [
            "0.8041414575443303\n",
            "{'simpleimputer__strategy': 'median', 'xgbclassifier__learning_rate': 0.2, 'xgbclassifier__max_depth': 10, 'xgbclassifier__n_estimators': 150}\n"
          ]
        }
      ]
    },
    {
      "cell_type": "code",
      "source": [
        "X_train, X_val, y_train, y_val = train_test_split(X, y, test_size=0.2, random_state=42)"
      ],
      "metadata": {
        "id": "9FumHi4s7M6K"
      },
      "execution_count": null,
      "outputs": []
    },
    {
      "cell_type": "code",
      "source": [
        "model_rf_tuned.fit(X_train, y_train)"
      ],
      "metadata": {
        "colab": {
          "base_uri": "https://localhost:8080/"
        },
        "id": "uyshIBQ_9EyG",
        "outputId": "0ee0d9d3-cbf0-48b9-fbea-e975ffc96f23"
      },
      "execution_count": null,
      "outputs": [
        {
          "output_type": "execute_result",
          "data": {
            "text/plain": [
              "Pipeline(steps=[('ordinalencoder',\n",
              "                 OrdinalEncoder(cols=['basin', 'region', 'district_code', 'lga',\n",
              "                                      'public_meeting', 'scheme_management',\n",
              "                                      'permit', 'extraction_type_group',\n",
              "                                      'management_group', 'payment',\n",
              "                                      'water_quality', 'quantity', 'source',\n",
              "                                      'waterpoint_type'],\n",
              "                                mapping=[{'col': 'basin',\n",
              "                                          'data_type': dtype('O'),\n",
              "                                          'mapping': Internal                   1\n",
              "Lake Rukwa                 2\n",
              "Rufiji                     3\n",
              "Wami / Ruvu                4\n",
              "Lake Victo...\n",
              "unknown                 10\n",
              "NaN                     -2\n",
              "dtype: int64},\n",
              "                                         {'col': 'waterpoint_type',\n",
              "                                          'data_type': dtype('O'),\n",
              "                                          'mapping': communal standpipe             1\n",
              "hand pump                      2\n",
              "other                          3\n",
              "communal standpipe multiple    4\n",
              "improved spring                5\n",
              "cattle trough                  6\n",
              "dam                            7\n",
              "NaN                           -2\n",
              "dtype: int64}])),\n",
              "                ('simpleimputer', SimpleImputer(strategy='median')),\n",
              "                ('randomforestclassifier',\n",
              "                 RandomForestClassifier(max_depth=19, n_estimators=81,\n",
              "                                        n_jobs=-1, random_state=42))])"
            ]
          },
          "metadata": {},
          "execution_count": 22
        }
      ]
    },
    {
      "cell_type": "code",
      "source": [
        "perm_imp = permutation_importance(model_rf_tuned, X_val, y_val, n_repeats=10, random_state=42)"
      ],
      "metadata": {
        "id": "uI7jetEK5Q7V"
      },
      "execution_count": null,
      "outputs": []
    },
    {
      "cell_type": "code",
      "source": [
        "perm_data = {\n",
        "    'imp_mean' : perm_imp['importances_mean'],\n",
        "    'imp_std' : perm_imp['importances_std']\n",
        "}\n",
        "\n",
        "df_perm = pd.DataFrame(perm_data, index=X_val.columns).sort_values('imp_mean')\n",
        "df_perm"
      ],
      "metadata": {
        "colab": {
          "base_uri": "https://localhost:8080/",
          "height": 644
        },
        "id": "Ku7eOwQe7qUw",
        "outputId": "3c5b8087-9b99-49bb-981b-26e26070ba8e"
      },
      "execution_count": null,
      "outputs": [
        {
          "output_type": "execute_result",
          "data": {
            "text/html": [
              "\n",
              "  <div id=\"df-a3896b6d-81ec-43d1-8f8d-d1b01c475e62\">\n",
              "    <div class=\"colab-df-container\">\n",
              "      <div>\n",
              "<style scoped>\n",
              "    .dataframe tbody tr th:only-of-type {\n",
              "        vertical-align: middle;\n",
              "    }\n",
              "\n",
              "    .dataframe tbody tr th {\n",
              "        vertical-align: top;\n",
              "    }\n",
              "\n",
              "    .dataframe thead th {\n",
              "        text-align: right;\n",
              "    }\n",
              "</style>\n",
              "<table border=\"1\" class=\"dataframe\">\n",
              "  <thead>\n",
              "    <tr style=\"text-align: right;\">\n",
              "      <th></th>\n",
              "      <th>imp_mean</th>\n",
              "      <th>imp_std</th>\n",
              "    </tr>\n",
              "  </thead>\n",
              "  <tbody>\n",
              "    <tr>\n",
              "      <th>management_group</th>\n",
              "      <td>-0.000537</td>\n",
              "      <td>0.000625</td>\n",
              "    </tr>\n",
              "    <tr>\n",
              "      <th>basin</th>\n",
              "      <td>-0.000042</td>\n",
              "      <td>0.001006</td>\n",
              "    </tr>\n",
              "    <tr>\n",
              "      <th>region_code</th>\n",
              "      <td>0.001042</td>\n",
              "      <td>0.000641</td>\n",
              "    </tr>\n",
              "    <tr>\n",
              "      <th>permit</th>\n",
              "      <td>0.001883</td>\n",
              "      <td>0.001169</td>\n",
              "    </tr>\n",
              "    <tr>\n",
              "      <th>water_quality</th>\n",
              "      <td>0.001926</td>\n",
              "      <td>0.000756</td>\n",
              "    </tr>\n",
              "    <tr>\n",
              "      <th>public_meeting</th>\n",
              "      <td>0.002557</td>\n",
              "      <td>0.000610</td>\n",
              "    </tr>\n",
              "    <tr>\n",
              "      <th>scheme_management</th>\n",
              "      <td>0.002925</td>\n",
              "      <td>0.001098</td>\n",
              "    </tr>\n",
              "    <tr>\n",
              "      <th>district_code</th>\n",
              "      <td>0.005482</td>\n",
              "      <td>0.000981</td>\n",
              "    </tr>\n",
              "    <tr>\n",
              "      <th>region</th>\n",
              "      <td>0.005629</td>\n",
              "      <td>0.001174</td>\n",
              "    </tr>\n",
              "    <tr>\n",
              "      <th>lga</th>\n",
              "      <td>0.008880</td>\n",
              "      <td>0.001327</td>\n",
              "    </tr>\n",
              "    <tr>\n",
              "      <th>source</th>\n",
              "      <td>0.009606</td>\n",
              "      <td>0.001166</td>\n",
              "    </tr>\n",
              "    <tr>\n",
              "      <th>population</th>\n",
              "      <td>0.010227</td>\n",
              "      <td>0.000989</td>\n",
              "    </tr>\n",
              "    <tr>\n",
              "      <th>payment</th>\n",
              "      <td>0.017656</td>\n",
              "      <td>0.001884</td>\n",
              "    </tr>\n",
              "    <tr>\n",
              "      <th>latitude</th>\n",
              "      <td>0.020234</td>\n",
              "      <td>0.000778</td>\n",
              "    </tr>\n",
              "    <tr>\n",
              "      <th>construction_year</th>\n",
              "      <td>0.020739</td>\n",
              "      <td>0.001370</td>\n",
              "    </tr>\n",
              "    <tr>\n",
              "      <th>extraction_type_group</th>\n",
              "      <td>0.022485</td>\n",
              "      <td>0.001579</td>\n",
              "    </tr>\n",
              "    <tr>\n",
              "      <th>longitude</th>\n",
              "      <td>0.024463</td>\n",
              "      <td>0.000779</td>\n",
              "    </tr>\n",
              "    <tr>\n",
              "      <th>waterpoint_type</th>\n",
              "      <td>0.063100</td>\n",
              "      <td>0.002324</td>\n",
              "    </tr>\n",
              "    <tr>\n",
              "      <th>quantity</th>\n",
              "      <td>0.108544</td>\n",
              "      <td>0.002448</td>\n",
              "    </tr>\n",
              "  </tbody>\n",
              "</table>\n",
              "</div>\n",
              "      <button class=\"colab-df-convert\" onclick=\"convertToInteractive('df-a3896b6d-81ec-43d1-8f8d-d1b01c475e62')\"\n",
              "              title=\"Convert this dataframe to an interactive table.\"\n",
              "              style=\"display:none;\">\n",
              "        \n",
              "  <svg xmlns=\"http://www.w3.org/2000/svg\" height=\"24px\"viewBox=\"0 0 24 24\"\n",
              "       width=\"24px\">\n",
              "    <path d=\"M0 0h24v24H0V0z\" fill=\"none\"/>\n",
              "    <path d=\"M18.56 5.44l.94 2.06.94-2.06 2.06-.94-2.06-.94-.94-2.06-.94 2.06-2.06.94zm-11 1L8.5 8.5l.94-2.06 2.06-.94-2.06-.94L8.5 2.5l-.94 2.06-2.06.94zm10 10l.94 2.06.94-2.06 2.06-.94-2.06-.94-.94-2.06-.94 2.06-2.06.94z\"/><path d=\"M17.41 7.96l-1.37-1.37c-.4-.4-.92-.59-1.43-.59-.52 0-1.04.2-1.43.59L10.3 9.45l-7.72 7.72c-.78.78-.78 2.05 0 2.83L4 21.41c.39.39.9.59 1.41.59.51 0 1.02-.2 1.41-.59l7.78-7.78 2.81-2.81c.8-.78.8-2.07 0-2.86zM5.41 20L4 18.59l7.72-7.72 1.47 1.35L5.41 20z\"/>\n",
              "  </svg>\n",
              "      </button>\n",
              "      \n",
              "  <style>\n",
              "    .colab-df-container {\n",
              "      display:flex;\n",
              "      flex-wrap:wrap;\n",
              "      gap: 12px;\n",
              "    }\n",
              "\n",
              "    .colab-df-convert {\n",
              "      background-color: #E8F0FE;\n",
              "      border: none;\n",
              "      border-radius: 50%;\n",
              "      cursor: pointer;\n",
              "      display: none;\n",
              "      fill: #1967D2;\n",
              "      height: 32px;\n",
              "      padding: 0 0 0 0;\n",
              "      width: 32px;\n",
              "    }\n",
              "\n",
              "    .colab-df-convert:hover {\n",
              "      background-color: #E2EBFA;\n",
              "      box-shadow: 0px 1px 2px rgba(60, 64, 67, 0.3), 0px 1px 3px 1px rgba(60, 64, 67, 0.15);\n",
              "      fill: #174EA6;\n",
              "    }\n",
              "\n",
              "    [theme=dark] .colab-df-convert {\n",
              "      background-color: #3B4455;\n",
              "      fill: #D2E3FC;\n",
              "    }\n",
              "\n",
              "    [theme=dark] .colab-df-convert:hover {\n",
              "      background-color: #434B5C;\n",
              "      box-shadow: 0px 1px 3px 1px rgba(0, 0, 0, 0.15);\n",
              "      filter: drop-shadow(0px 1px 2px rgba(0, 0, 0, 0.3));\n",
              "      fill: #FFFFFF;\n",
              "    }\n",
              "  </style>\n",
              "\n",
              "      <script>\n",
              "        const buttonEl =\n",
              "          document.querySelector('#df-a3896b6d-81ec-43d1-8f8d-d1b01c475e62 button.colab-df-convert');\n",
              "        buttonEl.style.display =\n",
              "          google.colab.kernel.accessAllowed ? 'block' : 'none';\n",
              "\n",
              "        async function convertToInteractive(key) {\n",
              "          const element = document.querySelector('#df-a3896b6d-81ec-43d1-8f8d-d1b01c475e62');\n",
              "          const dataTable =\n",
              "            await google.colab.kernel.invokeFunction('convertToInteractive',\n",
              "                                                     [key], {});\n",
              "          if (!dataTable) return;\n",
              "\n",
              "          const docLinkHtml = 'Like what you see? Visit the ' +\n",
              "            '<a target=\"_blank\" href=https://colab.research.google.com/notebooks/data_table.ipynb>data table notebook</a>'\n",
              "            + ' to learn more about interactive tables.';\n",
              "          element.innerHTML = '';\n",
              "          dataTable['output_type'] = 'display_data';\n",
              "          await google.colab.output.renderOutput(dataTable, element);\n",
              "          const docLink = document.createElement('div');\n",
              "          docLink.innerHTML = docLinkHtml;\n",
              "          element.appendChild(docLink);\n",
              "        }\n",
              "      </script>\n",
              "    </div>\n",
              "  </div>\n",
              "  "
            ],
            "text/plain": [
              "                       imp_mean   imp_std\n",
              "management_group      -0.000537  0.000625\n",
              "basin                 -0.000042  0.001006\n",
              "region_code            0.001042  0.000641\n",
              "permit                 0.001883  0.001169\n",
              "water_quality          0.001926  0.000756\n",
              "public_meeting         0.002557  0.000610\n",
              "scheme_management      0.002925  0.001098\n",
              "district_code          0.005482  0.000981\n",
              "region                 0.005629  0.001174\n",
              "lga                    0.008880  0.001327\n",
              "source                 0.009606  0.001166\n",
              "population             0.010227  0.000989\n",
              "payment                0.017656  0.001884\n",
              "latitude               0.020234  0.000778\n",
              "construction_year      0.020739  0.001370\n",
              "extraction_type_group  0.022485  0.001579\n",
              "longitude              0.024463  0.000779\n",
              "waterpoint_type        0.063100  0.002324\n",
              "quantity               0.108544  0.002448"
            ]
          },
          "metadata": {},
          "execution_count": 24
        }
      ]
    },
    {
      "cell_type": "markdown",
      "source": [
        "### Preparing Predictions"
      ],
      "metadata": {
        "id": "_XZv6vES6WrP"
      }
    },
    {
      "cell_type": "code",
      "source": [
        "y_pred = model_rf_tuned.predict(X_test)\n",
        "y_pred"
      ],
      "metadata": {
        "colab": {
          "base_uri": "https://localhost:8080/"
        },
        "id": "sSXpbQay0sjm",
        "outputId": "f1292e18-c916-4c0c-8eb0-ee438ad0ff2d"
      },
      "execution_count": null,
      "outputs": [
        {
          "output_type": "execute_result",
          "data": {
            "text/plain": [
              "array(['non functional', 'functional', 'functional', ...,\n",
              "       'non functional', 'non functional', 'functional'], dtype=object)"
            ]
          },
          "metadata": {},
          "execution_count": 21
        }
      ]
    },
    {
      "cell_type": "code",
      "source": [
        "rf_custom_analysis_prediction = pd.Series(y_pred, index= X_test.index, name='status_group')\n",
        "rf_custom_analysis_prediction"
      ],
      "metadata": {
        "colab": {
          "base_uri": "https://localhost:8080/"
        },
        "id": "EvMWncRx05_1",
        "outputId": "53c76c9c-1888-4dd9-9e90-7619c759a587"
      },
      "execution_count": null,
      "outputs": [
        {
          "output_type": "execute_result",
          "data": {
            "text/plain": [
              "id\n",
              "37098    non functional\n",
              "14530        functional\n",
              "62607        functional\n",
              "46053    non functional\n",
              "47083        functional\n",
              "              ...      \n",
              "26092        functional\n",
              "919          functional\n",
              "47444    non functional\n",
              "61128    non functional\n",
              "8075         functional\n",
              "Name: status_group, Length: 11880, dtype: object"
            ]
          },
          "metadata": {},
          "execution_count": 22
        }
      ]
    },
    {
      "cell_type": "code",
      "source": [
        "rf_custom_analysis_prediction.to_csv('basic_rf_custom_analysis_prediction.csv')"
      ],
      "metadata": {
        "id": "XziSYiEV1UTh"
      },
      "execution_count": null,
      "outputs": []
    },
    {
      "cell_type": "code",
      "source": [
        "!ls"
      ],
      "metadata": {
        "colab": {
          "base_uri": "https://localhost:8080/"
        },
        "id": "0WpbY_iC1gW-",
        "outputId": "0f4437c4-ab72-4e7e-8400-9ec9f6b09d4d"
      },
      "execution_count": null,
      "outputs": [
        {
          "output_type": "stream",
          "name": "stdout",
          "text": [
            "basic_dt_prediction.csv\t\t\t sample_submission.csv\n",
            "basic_rf_custom_analysis_prediction.csv  submission_baseline.csv\n",
            "basic_rfcv_prediction.csv\t\t test_features.csv\n",
            "basic_rf_prediction.csv\t\t\t train_features.csv\n",
            "kaggle.json\t\t\t\t train_labels.csv\n"
          ]
        }
      ]
    },
    {
      "cell_type": "code",
      "source": [
        "importances = model_rf_tuned.named_steps['randomforestclassifier'].feature_importances_\n",
        "features = X.columns\n",
        "feat_imp = pd.Series(importances, index=features).sort_values()\n",
        "feat_imp.tail(10).plot(kind='barh')\n",
        "plt.xlabel('Feature Importances in Tuned Random Forest Model');"
      ],
      "metadata": {
        "id": "xgBHmzqCCHeq"
      },
      "execution_count": null,
      "outputs": []
    },
    {
      "cell_type": "markdown",
      "source": [
        "### Train - Validation"
      ],
      "metadata": {
        "id": "7cNKLlsOmVpF"
      }
    },
    {
      "cell_type": "code",
      "source": [
        "# accuracy values for training and validation sets in initial model\n",
        "training_acc = model_rf.score(X_train, y_train)\n",
        "val_acc = model_rf.score(X_val, y_val)\n",
        "\n",
        "print('Training Accuracy Score:', training_acc)\n",
        "print('Validation Accuracy Score:', val_acc)"
      ],
      "metadata": {
        "colab": {
          "base_uri": "https://localhost:8080/"
        },
        "id": "0ZPxXWw7lsKG",
        "outputId": "8070dba7-020e-448c-e978-c20fbf5be18f"
      },
      "execution_count": null,
      "outputs": [
        {
          "output_type": "stream",
          "name": "stdout",
          "text": [
            "Training Accuracy Score: 0.9955806752247242\n",
            "Validation Accuracy Score: 0.7932098765432098\n"
          ]
        }
      ]
    },
    {
      "cell_type": "code",
      "source": [
        ""
      ],
      "metadata": {
        "id": "YyBbJoHvstO0"
      },
      "execution_count": null,
      "outputs": []
    },
    {
      "cell_type": "code",
      "source": [
        "# Make a horizontal bar chart of the most important features in model\n",
        "features = X_train.columns\n",
        "gini = model_rf.named_steps['randomforestclassifier'].feature_importances_\n",
        "feat_imp = pd.Series(data= gini, index= features).sort_values(key= abs).tail(10).plot(kind= 'barh')\n",
        "plt.xlabel('Features')\n",
        "plt.ylabel('Importance')\n",
        "plt.title('Feature Importances in Random Forest Classifier');"
      ],
      "metadata": {
        "colab": {
          "base_uri": "https://localhost:8080/",
          "height": 294
        },
        "id": "zUlNGES2lsmr",
        "outputId": "47ddd754-7df8-4f5c-a5aa-40b8940c1f10"
      },
      "execution_count": null,
      "outputs": [
        {
          "output_type": "display_data",
          "data": {
            "image/png": "[encoded data removed]",
            "text/plain": [
              "<Figure size 432x288 with 1 Axes>"
            ]
          },
          "metadata": {
            "needs_background": "light"
          }
        }
      ]
    },
    {
      "cell_type": "markdown",
      "source": [
        "---\n",
        "---\n",
        "# !!! STOP! Cells below are for testing only !!!\n",
        "---\n",
        "---\n"
      ],
      "metadata": {
        "id": "PJHMZEb1st6Z"
      }
    },
    {
      "cell_type": "code",
      "source": [
        "# drops duplicate column not captured by wrangle function\n",
        "X_test.drop(columns= ['waterpoint_type_group'], inplace= True)"
      ],
      "metadata": {
        "id": "r77xtUb5lsUi"
      },
      "execution_count": null,
      "outputs": []
    },
    {
      "cell_type": "code",
      "source": [
        "# prediction for test data\n",
        "y_pred = model_rf.predict(X_test)\n",
        "assert len(y_pred) == len(X_test), f'Your list of predictions should have {len(X_test)} items in it. '"
      ],
      "metadata": {
        "id": "Db4zQ3pHlsdr"
      },
      "execution_count": null,
      "outputs": []
    },
    {
      "cell_type": "markdown",
      "source": [
        "---\n",
        "# Workshop\n",
        "---"
      ],
      "metadata": {
        "id": "AhyHdA6CSYQ3"
      }
    },
    {
      "cell_type": "code",
      "source": [
        "# create full dataframe of training data\n",
        "dff = pd.merge(pd.read_csv('train_labels.csv').set_index('id'), pd.read_csv('train_features.csv').set_index('id'), left_index=True, right_index=True)"
      ],
      "metadata": {
        "id": "NXL_wYoQRwzr"
      },
      "execution_count": null,
      "outputs": []
    },
    {
      "cell_type": "code",
      "source": [
        "dff.head()"
      ],
      "metadata": {
        "colab": {
          "base_uri": "https://localhost:8080/",
          "height": 492
        },
        "id": "ZczS9Bv1Rz1b",
        "outputId": "bc4cff4a-0853-42c2-f71b-11f68fda1c89"
      },
      "execution_count": null,
      "outputs": [
        {
          "output_type": "execute_result",
          "data": {
            "text/html": [
              "\n",
              "  <div id=\"df-ebdb2fa6-a040-4c67-b066-06abe9212fe8\">\n",
              "    <div class=\"colab-df-container\">\n",
              "      <div>\n",
              "<style scoped>\n",
              "    .dataframe tbody tr th:only-of-type {\n",
              "        vertical-align: middle;\n",
              "    }\n",
              "\n",
              "    .dataframe tbody tr th {\n",
              "        vertical-align: top;\n",
              "    }\n",
              "\n",
              "    .dataframe thead th {\n",
              "        text-align: right;\n",
              "    }\n",
              "</style>\n",
              "<table border=\"1\" class=\"dataframe\">\n",
              "  <thead>\n",
              "    <tr style=\"text-align: right;\">\n",
              "      <th></th>\n",
              "      <th>status_group</th>\n",
              "      <th>amount_tsh</th>\n",
              "      <th>date_recorded</th>\n",
              "      <th>funder</th>\n",
              "      <th>gps_height</th>\n",
              "      <th>installer</th>\n",
              "      <th>longitude</th>\n",
              "      <th>latitude</th>\n",
              "      <th>wpt_name</th>\n",
              "      <th>num_private</th>\n",
              "      <th>basin</th>\n",
              "      <th>subvillage</th>\n",
              "      <th>region</th>\n",
              "      <th>region_code</th>\n",
              "      <th>district_code</th>\n",
              "      <th>lga</th>\n",
              "      <th>ward</th>\n",
              "      <th>population</th>\n",
              "      <th>public_meeting</th>\n",
              "      <th>recorded_by</th>\n",
              "      <th>scheme_management</th>\n",
              "      <th>scheme_name</th>\n",
              "      <th>permit</th>\n",
              "      <th>construction_year</th>\n",
              "      <th>extraction_type</th>\n",
              "      <th>extraction_type_group</th>\n",
              "      <th>extraction_type_class</th>\n",
              "      <th>management</th>\n",
              "      <th>management_group</th>\n",
              "      <th>payment</th>\n",
              "      <th>payment_type</th>\n",
              "      <th>water_quality</th>\n",
              "      <th>quality_group</th>\n",
              "      <th>quantity</th>\n",
              "      <th>quantity_group</th>\n",
              "      <th>source</th>\n",
              "      <th>source_type</th>\n",
              "      <th>source_class</th>\n",
              "      <th>waterpoint_type</th>\n",
              "      <th>waterpoint_type_group</th>\n",
              "    </tr>\n",
              "    <tr>\n",
              "      <th>id</th>\n",
              "      <th></th>\n",
              "      <th></th>\n",
              "      <th></th>\n",
              "      <th></th>\n",
              "      <th></th>\n",
              "      <th></th>\n",
              "      <th></th>\n",
              "      <th></th>\n",
              "      <th></th>\n",
              "      <th></th>\n",
              "      <th></th>\n",
              "      <th></th>\n",
              "      <th></th>\n",
              "      <th></th>\n",
              "      <th></th>\n",
              "      <th></th>\n",
              "      <th></th>\n",
              "      <th></th>\n",
              "      <th></th>\n",
              "      <th></th>\n",
              "      <th></th>\n",
              "      <th></th>\n",
              "      <th></th>\n",
              "      <th></th>\n",
              "      <th></th>\n",
              "      <th></th>\n",
              "      <th></th>\n",
              "      <th></th>\n",
              "      <th></th>\n",
              "      <th></th>\n",
              "      <th></th>\n",
              "      <th></th>\n",
              "      <th></th>\n",
              "      <th></th>\n",
              "      <th></th>\n",
              "      <th></th>\n",
              "      <th></th>\n",
              "      <th></th>\n",
              "      <th></th>\n",
              "      <th></th>\n",
              "    </tr>\n",
              "  </thead>\n",
              "  <tbody>\n",
              "    <tr>\n",
              "      <th>454</th>\n",
              "      <td>functional</td>\n",
              "      <td>50.0</td>\n",
              "      <td>2013-02-27</td>\n",
              "      <td>Dmdd</td>\n",
              "      <td>2092</td>\n",
              "      <td>DMDD</td>\n",
              "      <td>35.426020</td>\n",
              "      <td>-4.227446</td>\n",
              "      <td>Narmo</td>\n",
              "      <td>0</td>\n",
              "      <td>Internal</td>\n",
              "      <td>Bashnet Kati</td>\n",
              "      <td>Manyara</td>\n",
              "      <td>21</td>\n",
              "      <td>1</td>\n",
              "      <td>Babati</td>\n",
              "      <td>Bashinet</td>\n",
              "      <td>160</td>\n",
              "      <td>True</td>\n",
              "      <td>GeoData Consultants Ltd</td>\n",
              "      <td>Water Board</td>\n",
              "      <td>NaN</td>\n",
              "      <td>True</td>\n",
              "      <td>1998</td>\n",
              "      <td>gravity</td>\n",
              "      <td>gravity</td>\n",
              "      <td>gravity</td>\n",
              "      <td>water board</td>\n",
              "      <td>user-group</td>\n",
              "      <td>pay per bucket</td>\n",
              "      <td>per bucket</td>\n",
              "      <td>soft</td>\n",
              "      <td>good</td>\n",
              "      <td>insufficient</td>\n",
              "      <td>insufficient</td>\n",
              "      <td>spring</td>\n",
              "      <td>spring</td>\n",
              "      <td>groundwater</td>\n",
              "      <td>communal standpipe</td>\n",
              "      <td>communal standpipe</td>\n",
              "    </tr>\n",
              "    <tr>\n",
              "      <th>510</th>\n",
              "      <td>functional</td>\n",
              "      <td>0.0</td>\n",
              "      <td>2011-03-17</td>\n",
              "      <td>Cmsr</td>\n",
              "      <td>0</td>\n",
              "      <td>Gove</td>\n",
              "      <td>35.510074</td>\n",
              "      <td>-5.724555</td>\n",
              "      <td>Lukali</td>\n",
              "      <td>0</td>\n",
              "      <td>Internal</td>\n",
              "      <td>Lukali</td>\n",
              "      <td>Dodoma</td>\n",
              "      <td>1</td>\n",
              "      <td>6</td>\n",
              "      <td>Bahi</td>\n",
              "      <td>Lamaiti</td>\n",
              "      <td>0</td>\n",
              "      <td>True</td>\n",
              "      <td>GeoData Consultants Ltd</td>\n",
              "      <td>VWC</td>\n",
              "      <td>NaN</td>\n",
              "      <td>True</td>\n",
              "      <td>0</td>\n",
              "      <td>india mark ii</td>\n",
              "      <td>india mark ii</td>\n",
              "      <td>handpump</td>\n",
              "      <td>vwc</td>\n",
              "      <td>user-group</td>\n",
              "      <td>never pay</td>\n",
              "      <td>never pay</td>\n",
              "      <td>soft</td>\n",
              "      <td>good</td>\n",
              "      <td>enough</td>\n",
              "      <td>enough</td>\n",
              "      <td>shallow well</td>\n",
              "      <td>shallow well</td>\n",
              "      <td>groundwater</td>\n",
              "      <td>hand pump</td>\n",
              "      <td>hand pump</td>\n",
              "    </tr>\n",
              "    <tr>\n",
              "      <th>14146</th>\n",
              "      <td>non functional</td>\n",
              "      <td>0.0</td>\n",
              "      <td>2011-07-10</td>\n",
              "      <td>Kkkt</td>\n",
              "      <td>0</td>\n",
              "      <td>KKKT</td>\n",
              "      <td>32.499866</td>\n",
              "      <td>-9.081222</td>\n",
              "      <td>Mahakama</td>\n",
              "      <td>0</td>\n",
              "      <td>Lake Rukwa</td>\n",
              "      <td>Chawalikozi</td>\n",
              "      <td>Mbeya</td>\n",
              "      <td>12</td>\n",
              "      <td>6</td>\n",
              "      <td>Mbozi</td>\n",
              "      <td>Ndalambo</td>\n",
              "      <td>0</td>\n",
              "      <td>True</td>\n",
              "      <td>GeoData Consultants Ltd</td>\n",
              "      <td>VWC</td>\n",
              "      <td>NaN</td>\n",
              "      <td>False</td>\n",
              "      <td>0</td>\n",
              "      <td>other</td>\n",
              "      <td>other</td>\n",
              "      <td>other</td>\n",
              "      <td>vwc</td>\n",
              "      <td>user-group</td>\n",
              "      <td>never pay</td>\n",
              "      <td>never pay</td>\n",
              "      <td>soft</td>\n",
              "      <td>good</td>\n",
              "      <td>enough</td>\n",
              "      <td>enough</td>\n",
              "      <td>shallow well</td>\n",
              "      <td>shallow well</td>\n",
              "      <td>groundwater</td>\n",
              "      <td>other</td>\n",
              "      <td>other</td>\n",
              "    </tr>\n",
              "    <tr>\n",
              "      <th>47410</th>\n",
              "      <td>non functional</td>\n",
              "      <td>0.0</td>\n",
              "      <td>2011-04-12</td>\n",
              "      <td>NaN</td>\n",
              "      <td>0</td>\n",
              "      <td>NaN</td>\n",
              "      <td>34.060484</td>\n",
              "      <td>-8.830208</td>\n",
              "      <td>Shule Ya Msingi Chosi A</td>\n",
              "      <td>0</td>\n",
              "      <td>Rufiji</td>\n",
              "      <td>Shuleni</td>\n",
              "      <td>Mbeya</td>\n",
              "      <td>12</td>\n",
              "      <td>7</td>\n",
              "      <td>Mbarali</td>\n",
              "      <td>Chimala</td>\n",
              "      <td>0</td>\n",
              "      <td>True</td>\n",
              "      <td>GeoData Consultants Ltd</td>\n",
              "      <td>VWC</td>\n",
              "      <td>NaN</td>\n",
              "      <td>True</td>\n",
              "      <td>0</td>\n",
              "      <td>gravity</td>\n",
              "      <td>gravity</td>\n",
              "      <td>gravity</td>\n",
              "      <td>vwc</td>\n",
              "      <td>user-group</td>\n",
              "      <td>pay monthly</td>\n",
              "      <td>monthly</td>\n",
              "      <td>soft</td>\n",
              "      <td>good</td>\n",
              "      <td>insufficient</td>\n",
              "      <td>insufficient</td>\n",
              "      <td>river</td>\n",
              "      <td>river/lake</td>\n",
              "      <td>surface</td>\n",
              "      <td>communal standpipe</td>\n",
              "      <td>communal standpipe</td>\n",
              "    </tr>\n",
              "    <tr>\n",
              "      <th>1288</th>\n",
              "      <td>non functional</td>\n",
              "      <td>300.0</td>\n",
              "      <td>2011-04-05</td>\n",
              "      <td>Ki</td>\n",
              "      <td>1023</td>\n",
              "      <td>Ki</td>\n",
              "      <td>37.032690</td>\n",
              "      <td>-6.040787</td>\n",
              "      <td>Kwa Mjowe</td>\n",
              "      <td>0</td>\n",
              "      <td>Wami / Ruvu</td>\n",
              "      <td>Ngholong</td>\n",
              "      <td>Morogoro</td>\n",
              "      <td>5</td>\n",
              "      <td>1</td>\n",
              "      <td>Kilosa</td>\n",
              "      <td>Chakwale</td>\n",
              "      <td>120</td>\n",
              "      <td>True</td>\n",
              "      <td>GeoData Consultants Ltd</td>\n",
              "      <td>VWC</td>\n",
              "      <td>NaN</td>\n",
              "      <td>True</td>\n",
              "      <td>1997</td>\n",
              "      <td>other</td>\n",
              "      <td>other</td>\n",
              "      <td>other</td>\n",
              "      <td>vwc</td>\n",
              "      <td>user-group</td>\n",
              "      <td>pay when scheme fails</td>\n",
              "      <td>on failure</td>\n",
              "      <td>salty</td>\n",
              "      <td>salty</td>\n",
              "      <td>enough</td>\n",
              "      <td>enough</td>\n",
              "      <td>shallow well</td>\n",
              "      <td>shallow well</td>\n",
              "      <td>groundwater</td>\n",
              "      <td>other</td>\n",
              "      <td>other</td>\n",
              "    </tr>\n",
              "  </tbody>\n",
              "</table>\n",
              "</div>\n",
              "      <button class=\"colab-df-convert\" onclick=\"convertToInteractive('df-ebdb2fa6-a040-4c67-b066-06abe9212fe8')\"\n",
              "              title=\"Convert this dataframe to an interactive table.\"\n",
              "              style=\"display:none;\">\n",
              "        \n",
              "  <svg xmlns=\"http://www.w3.org/2000/svg\" height=\"24px\"viewBox=\"0 0 24 24\"\n",
              "       width=\"24px\">\n",
              "    <path d=\"M0 0h24v24H0V0z\" fill=\"none\"/>\n",
              "    <path d=\"M18.56 5.44l.94 2.06.94-2.06 2.06-.94-2.06-.94-.94-2.06-.94 2.06-2.06.94zm-11 1L8.5 8.5l.94-2.06 2.06-.94-2.06-.94L8.5 2.5l-.94 2.06-2.06.94zm10 10l.94 2.06.94-2.06 2.06-.94-2.06-.94-.94-2.06-.94 2.06-2.06.94z\"/><path d=\"M17.41 7.96l-1.37-1.37c-.4-.4-.92-.59-1.43-.59-.52 0-1.04.2-1.43.59L10.3 9.45l-7.72 7.72c-.78.78-.78 2.05 0 2.83L4 21.41c.39.39.9.59 1.41.59.51 0 1.02-.2 1.41-.59l7.78-7.78 2.81-2.81c.8-.78.8-2.07 0-2.86zM5.41 20L4 18.59l7.72-7.72 1.47 1.35L5.41 20z\"/>\n",
              "  </svg>\n",
              "      </button>\n",
              "      \n",
              "  <style>\n",
              "    .colab-df-container {\n",
              "      display:flex;\n",
              "      flex-wrap:wrap;\n",
              "      gap: 12px;\n",
              "    }\n",
              "\n",
              "    .colab-df-convert {\n",
              "      background-color: #E8F0FE;\n",
              "      border: none;\n",
              "      border-radius: 50%;\n",
              "      cursor: pointer;\n",
              "      display: none;\n",
              "      fill: #1967D2;\n",
              "      height: 32px;\n",
              "      padding: 0 0 0 0;\n",
              "      width: 32px;\n",
              "    }\n",
              "\n",
              "    .colab-df-convert:hover {\n",
              "      background-color: #E2EBFA;\n",
              "      box-shadow: 0px 1px 2px rgba(60, 64, 67, 0.3), 0px 1px 3px 1px rgba(60, 64, 67, 0.15);\n",
              "      fill: #174EA6;\n",
              "    }\n",
              "\n",
              "    [theme=dark] .colab-df-convert {\n",
              "      background-color: #3B4455;\n",
              "      fill: #D2E3FC;\n",
              "    }\n",
              "\n",
              "    [theme=dark] .colab-df-convert:hover {\n",
              "      background-color: #434B5C;\n",
              "      box-shadow: 0px 1px 3px 1px rgba(0, 0, 0, 0.15);\n",
              "      filter: drop-shadow(0px 1px 2px rgba(0, 0, 0, 0.3));\n",
              "      fill: #FFFFFF;\n",
              "    }\n",
              "  </style>\n",
              "\n",
              "      <script>\n",
              "        const buttonEl =\n",
              "          document.querySelector('#df-ebdb2fa6-a040-4c67-b066-06abe9212fe8 button.colab-df-convert');\n",
              "        buttonEl.style.display =\n",
              "          google.colab.kernel.accessAllowed ? 'block' : 'none';\n",
              "\n",
              "        async function convertToInteractive(key) {\n",
              "          const element = document.querySelector('#df-ebdb2fa6-a040-4c67-b066-06abe9212fe8');\n",
              "          const dataTable =\n",
              "            await google.colab.kernel.invokeFunction('convertToInteractive',\n",
              "                                                     [key], {});\n",
              "          if (!dataTable) return;\n",
              "\n",
              "          const docLinkHtml = 'Like what you see? Visit the ' +\n",
              "            '<a target=\"_blank\" href=https://colab.research.google.com/notebooks/data_table.ipynb>data table notebook</a>'\n",
              "            + ' to learn more about interactive tables.';\n",
              "          element.innerHTML = '';\n",
              "          dataTable['output_type'] = 'display_data';\n",
              "          await google.colab.output.renderOutput(dataTable, element);\n",
              "          const docLink = document.createElement('div');\n",
              "          docLink.innerHTML = docLinkHtml;\n",
              "          element.appendChild(docLink);\n",
              "        }\n",
              "      </script>\n",
              "    </div>\n",
              "  </div>\n",
              "  "
            ],
            "text/plain": [
              "         status_group  amount_tsh  ...     waterpoint_type waterpoint_type_group\n",
              "id                                 ...                                          \n",
              "454        functional        50.0  ...  communal standpipe    communal standpipe\n",
              "510        functional         0.0  ...           hand pump             hand pump\n",
              "14146  non functional         0.0  ...               other                 other\n",
              "47410  non functional         0.0  ...  communal standpipe    communal standpipe\n",
              "1288   non functional       300.0  ...               other                 other\n",
              "\n",
              "[5 rows x 40 columns]"
            ]
          },
          "metadata": {},
          "execution_count": 61
        }
      ]
    },
    {
      "cell_type": "code",
      "source": [
        "# dataframe info\n",
        "print(dff.shape)\n",
        "dff.info()"
      ],
      "metadata": {
        "colab": {
          "base_uri": "https://localhost:8080/"
        },
        "id": "RSZ8z8c5SIhz",
        "outputId": "32a31f17-9da0-4ed8-e227-0c2fa2e85590"
      },
      "execution_count": null,
      "outputs": [
        {
          "output_type": "stream",
          "name": "stdout",
          "text": [
            "(47520, 40)\n",
            "<class 'pandas.core.frame.DataFrame'>\n",
            "Int64Index: 47520 entries, 454 to 23812\n",
            "Data columns (total 40 columns):\n",
            " #   Column                 Non-Null Count  Dtype  \n",
            "---  ------                 --------------  -----  \n",
            " 0   status_group           47520 non-null  object \n",
            " 1   amount_tsh             47520 non-null  float64\n",
            " 2   date_recorded          47520 non-null  object \n",
            " 3   funder                 44644 non-null  object \n",
            " 4   gps_height             47520 non-null  int64  \n",
            " 5   installer              44631 non-null  object \n",
            " 6   longitude              47520 non-null  float64\n",
            " 7   latitude               47520 non-null  float64\n",
            " 8   wpt_name               47520 non-null  object \n",
            " 9   num_private            47520 non-null  int64  \n",
            " 10  basin                  47520 non-null  object \n",
            " 11  subvillage             47224 non-null  object \n",
            " 12  region                 47520 non-null  object \n",
            " 13  region_code            47520 non-null  int64  \n",
            " 14  district_code          47520 non-null  int64  \n",
            " 15  lga                    47520 non-null  object \n",
            " 16  ward                   47520 non-null  object \n",
            " 17  population             47520 non-null  int64  \n",
            " 18  public_meeting         44831 non-null  object \n",
            " 19  recorded_by            47520 non-null  object \n",
            " 20  scheme_management      44418 non-null  object \n",
            " 21  scheme_name            24997 non-null  object \n",
            " 22  permit                 45081 non-null  object \n",
            " 23  construction_year      47520 non-null  int64  \n",
            " 24  extraction_type        47520 non-null  object \n",
            " 25  extraction_type_group  47520 non-null  object \n",
            " 26  extraction_type_class  47520 non-null  object \n",
            " 27  management             47520 non-null  object \n",
            " 28  management_group       47520 non-null  object \n",
            " 29  payment                47520 non-null  object \n",
            " 30  payment_type           47520 non-null  object \n",
            " 31  water_quality          47520 non-null  object \n",
            " 32  quality_group          47520 non-null  object \n",
            " 33  quantity               47520 non-null  object \n",
            " 34  quantity_group         47520 non-null  object \n",
            " 35  source                 47520 non-null  object \n",
            " 36  source_type            47520 non-null  object \n",
            " 37  source_class           47520 non-null  object \n",
            " 38  waterpoint_type        47520 non-null  object \n",
            " 39  waterpoint_type_group  47520 non-null  object \n",
            "dtypes: float64(3), int64(6), object(31)\n",
            "memory usage: 15.9+ MB\n"
          ]
        }
      ]
    },
    {
      "cell_type": "code",
      "source": [
        "dff.isnull().sum()"
      ],
      "metadata": {
        "colab": {
          "base_uri": "https://localhost:8080/"
        },
        "id": "fWmFRtknjl8g",
        "outputId": "8324c621-8fbf-4d5b-a034-570c3b38a35f"
      },
      "execution_count": null,
      "outputs": [
        {
          "output_type": "execute_result",
          "data": {
            "text/plain": [
              "status_group                 0\n",
              "amount_tsh                   0\n",
              "date_recorded                0\n",
              "funder                    2876\n",
              "gps_height                   0\n",
              "installer                 2889\n",
              "longitude                    0\n",
              "latitude                     0\n",
              "wpt_name                     0\n",
              "num_private                  0\n",
              "basin                        0\n",
              "subvillage                 296\n",
              "region                       0\n",
              "region_code                  0\n",
              "district_code                0\n",
              "lga                          0\n",
              "ward                         0\n",
              "population                   0\n",
              "public_meeting            2689\n",
              "recorded_by                  0\n",
              "scheme_management         3102\n",
              "scheme_name              22523\n",
              "permit                    2439\n",
              "construction_year            0\n",
              "extraction_type              0\n",
              "extraction_type_group        0\n",
              "extraction_type_class        0\n",
              "management                   0\n",
              "management_group             0\n",
              "payment                      0\n",
              "payment_type                 0\n",
              "water_quality                0\n",
              "quality_group                0\n",
              "quantity                     0\n",
              "quantity_group               0\n",
              "source                       0\n",
              "source_type                  0\n",
              "source_class                 0\n",
              "waterpoint_type              0\n",
              "waterpoint_type_group        0\n",
              "dtype: int64"
            ]
          },
          "metadata": {},
          "execution_count": 166
        }
      ]
    },
    {
      "cell_type": "markdown",
      "source": [
        "## Column Analysis"
      ],
      "metadata": {
        "id": "Yyh5orLRxp28"
      }
    },
    {
      "cell_type": "code",
      "source": [
        "# amount_tsh: total static head (distance between water source/pump/waterpoint)\n",
        "    # DROP, sample sizes too heavily skewed (noise)\n",
        "    # zeros will be considered as open tanks or closed circulation systems.\n",
        "\n",
        "# date_recorded, construction_year: the date the row was entered / date pump constructed\n",
        "    # age predicted to heavily impact category\n",
        "    # date_recorded assumed to be the date the pump was inspected\n",
        "    # age should be date recorded year - construction date year (instead of current year - construction year)\n",
        "        # ABOVE CALCULATION YIELDS NEGATIVE VALUES, KEEP CONSTRUCTION YEAR\n",
        "\n",
        "# funder: who funded the well\n",
        "    # DROP, sample sizes too heavily skewed (noise)\n",
        "    # intitial investigation shows minimal impact\n",
        "\n",
        "# gps_height: altitude of the well\n",
        "    # DROP, sample sizes too small for all categories (noise)\n",
        "    # altitude baseline unclear. From sea level? From ground at location?\n",
        "    # units unclear. feet? meters?\n",
        "\n",
        "# installer: well installer\n",
        "    # DROP, sample sizes too small for all categories (noise)\n",
        "    # same thing as pump installer?\n",
        "\n",
        "# latitude and longitude: gps coordinates\n",
        "    # preliminary models show significant impact to category\n",
        "    # need to perform a map visualization to better understand\n",
        "        # tableau best suited?\n",
        "\n",
        "# wpt_name: waterpoint name\n",
        "    # DROP, sample sizes too heavily skewed (noise)\n",
        "\n",
        "# num_private: ???\n",
        "    # DROP, sample sizes too heavily skewed (noise)\n",
        "    # appears to be categorical integers\n",
        "    # unable to interpret due to lack of description\n",
        "\n",
        "# basin, subvillage, region, region_code, district_code, ward: geographic details\n",
        "    # KEEP: basin, region, region_code, district_code\n",
        "    # DROP: subvillage\n",
        "    # unknown impact to category\n",
        "    # likely able to be dropped in lieu of lat/long data (may even cause noise)\n",
        "        # only possible significant impact is if maintenance is done by different groups,\n",
        "        # which may be different by region\n",
        "\n",
        "# lga: local government area\n",
        "    # slight to moderate impact to category\n",
        "    # KEEP, sample sizes sufficient\n",
        "    # likely able to be dropped (may even cause noise)\n",
        "    # possible impact (see basin, etc. above)\n",
        "\n",
        "# population: population around the well\n",
        "    # possible significant impact to category\n",
        "    # KEEP, int column\n",
        "        # the more people using the pump, the faster it deteriorates?\n",
        "\n",
        "# public_meeting: ???\n",
        "    # slight impact to category\n",
        "    # WATCH FOR NULL VALUES\n",
        "    # whether or not a public meeting was held?\n",
        "    # for what reason? installation?\n",
        "\n",
        "# recorded_by: group recording this data\n",
        "    # DROP, constant column (1 group)\n",
        "\n",
        "# scheme_management, scheme_name: who operates the pump\n",
        "    # slight to moderate impact to category\n",
        "    # KEEP, use scheme management, sample sizes sufficient\n",
        "    # WATCH FOR NULL VALUES\n",
        "    # same group who maintains the pump ?\n",
        "    # scheme_management and scheme_name are different? management oversees name?\n",
        "\n",
        "# permit: if the waterpoint is permitted\n",
        "    # slight impact to category\n",
        "    # WATCH FOR NULL VALUES\n",
        "    # why would unpermitted waterpoints be allowed to exist?\n",
        "    # 3-4% more non-functional wells for non-permitted waterpoints\n",
        "\n",
        "# extraction_type, extraction_type_group, extraction_type_class: extraction type at waterpoint\n",
        "    # slight to moderate impact to category\n",
        "    # analysis shows extraction_type_group to be the optimal balance of sample size for each extraction type category\n",
        "\n",
        "# management, management_group: group type managing waterpoint\n",
        "    # slight to moderate impact to category\n",
        "    # analysis shows management_group to be more specific, has reasonable sample sizes, and is category-encoding-manageable\n",
        "\n",
        "# payment, payment_type: payment required for water\n",
        "    # slight to moderate impact to category\n",
        "    # duplicate columns, using payment for readability\n",
        "\n",
        "# water_quality, quality_group: quality of water\n",
        "    # slight to moderate impact to category\n",
        "    # using water_quality, contains abandoned wells\n",
        "\n",
        "# quantity, quantity_group: quantity of water\n",
        "    # moderate to significant impact to category\n",
        "    # using quantity, duplicate columns with same names\n",
        "\n",
        "# source, source_type, source_class: source of water\n",
        "    # slight to moderate impact to category\n",
        "    # analysis shows source to be more specific, has reasonable sample sizes, and is category-encoding-manageable\n",
        "\n",
        "# waterpoint_type, waterpoint_type_group: type of waterpoint\n",
        "    # slight impact to category\n",
        "    # analysis shows waterpoint_type to be slightly more specific"
      ],
      "metadata": {
        "id": "pUKGLCZRSzuF"
      },
      "execution_count": null,
      "outputs": []
    },
    {
      "cell_type": "code",
      "source": [
        "# ENGINEER\n",
        "    # age\n",
        "        # NULLS (float) (mean)\n",
        "# KEEP\n",
        "    # latitude\n",
        "        # NULLS (accounted for)\n",
        "    # longitude\n",
        "        # NULLS (accounted for)\n",
        "    # construction_year\n",
        "        # NULLS (int/float) (mean)\n",
        "    # basin\n",
        "    # region\n",
        "    # region_code\n",
        "        # NULLS (int, categorical) (null) (convert to object)\n",
        "    # district_code\n",
        "        # NULLS (int, categorical) (null) (convert to object)\n",
        "    # lga\n",
        "    # population\n",
        "        # NULLS (int) (mean)\n",
        "    # public_meeting\n",
        "        # NULLS (bool) (null)\n",
        "    # scheme_management\n",
        "        # NULLS (categorical) (other_null)\n",
        "    # permit\n",
        "        # NULLS (bool) (null)\n",
        "    # extraction_type_group\n",
        "    # management_group\n",
        "    # payment\n",
        "    # water_quality\n",
        "    # quantity\n",
        "    # source\n",
        "    # waterpoint_type\n",
        "# DROP\n",
        "    # amount_tsh\n",
        "    # date_recorded\n",
        "    # funder\n",
        "    # gps_height\n",
        "    # installer\n",
        "    # wpt_name\n",
        "    # num_private\n",
        "    # subvillage\n",
        "    # recorded_by\n",
        "    # scheme_name\n",
        "    # permit\n",
        "    # extraction_type\n",
        "    # extraction_type_class\n",
        "    # management\n",
        "    # payment_type\n",
        "    # quality_group\n",
        "    # source_type, source_class\n",
        "    # waterpoint_type_group"
      ],
      "metadata": {
        "id": "EMLE5zwpx2Aw"
      },
      "execution_count": null,
      "outputs": []
    },
    {
      "cell_type": "code",
      "source": [
        "# possible multicollinearity:\n",
        "    # latitude, longitude, lga, basin, region, region_code, district_code\n",
        "    # scheme_management, management_group, (payment_type?)\n",
        "    # extraction_type_group, basin, source, waterpoint_type, water_quality, water_quantity"
      ],
      "metadata": {
        "id": "UJm89jouwdNg"
      },
      "execution_count": null,
      "outputs": []
    },
    {
      "cell_type": "markdown",
      "source": [
        "### Column Analysis Support"
      ],
      "metadata": {
        "id": "nSiO19Xm0CUu"
      }
    },
    {
      "cell_type": "code",
      "source": [
        "# dataframe: 'funder' value counts < 100\n",
        "dff_fund_less_100 = dff.groupby(by= 'funder').filter(lambda x: len(x) < 100)"
      ],
      "metadata": {
        "id": "XqVRncf0Sljl"
      },
      "execution_count": null,
      "outputs": []
    },
    {
      "cell_type": "code",
      "source": [
        "# details of funders who funded < 100 pumps\n",
        "print(dff_fund_less_100.shape)\n",
        "dff_fund_less_100['status_group'].value_counts(normalize=True)"
      ],
      "metadata": {
        "colab": {
          "base_uri": "https://localhost:8080/"
        },
        "id": "d18Pgj6ic1pd",
        "outputId": "cb2fe4b4-d4ef-4b89-f2b1-a73c37b75313"
      },
      "execution_count": null,
      "outputs": [
        {
          "output_type": "stream",
          "name": "stdout",
          "text": [
            "(11462, 40)\n"
          ]
        },
        {
          "output_type": "execute_result",
          "data": {
            "text/plain": [
              "functional                 0.542983\n",
              "non functional             0.384078\n",
              "functional needs repair    0.072939\n",
              "Name: status_group, dtype: float64"
            ]
          },
          "metadata": {},
          "execution_count": 58
        }
      ]
    },
    {
      "cell_type": "code",
      "source": [
        "# details of full dataframe for comparison \n",
        "dff['status_group'].value_counts(normalize= True)"
      ],
      "metadata": {
        "colab": {
          "base_uri": "https://localhost:8080/"
        },
        "id": "H17igwG9cjiU",
        "outputId": "a2f9c11a-26ac-4bcb-90e3-6920e9aadd7e"
      },
      "execution_count": null,
      "outputs": [
        {
          "output_type": "execute_result",
          "data": {
            "text/plain": [
              "functional                 0.596318\n",
              "non functional             0.345228\n",
              "functional needs repair    0.058454\n",
              "Name: status_group, dtype: float64"
            ]
          },
          "metadata": {},
          "execution_count": 57
        }
      ]
    },
    {
      "cell_type": "code",
      "source": [
        "# dataframe: 'installer' value counts < 100\n",
        "dff_installer_less_100 = dff.groupby(by= 'installer').filter(lambda x: len(x) < 100)"
      ],
      "metadata": {
        "id": "TsPNeJ6ujlDI"
      },
      "execution_count": null,
      "outputs": []
    },
    {
      "cell_type": "code",
      "source": [
        "# details of installers who installed < 100 pumps\n",
        "print(dff_installer_less_100.shape)\n",
        "dff_installer_less_100['status_group'].value_counts(normalize=True)"
      ],
      "metadata": {
        "colab": {
          "base_uri": "https://localhost:8080/"
        },
        "id": "h-K3ERLFATZR",
        "outputId": "9dd09499-d919-4a6e-904f-0dd1ebc6b115"
      },
      "execution_count": null,
      "outputs": [
        {
          "output_type": "stream",
          "name": "stdout",
          "text": [
            "(12330, 40)\n"
          ]
        },
        {
          "output_type": "execute_result",
          "data": {
            "text/plain": [
              "functional                 0.556853\n",
              "non functional             0.387429\n",
              "functional needs repair    0.055718\n",
              "Name: status_group, dtype: float64"
            ]
          },
          "metadata": {},
          "execution_count": 86
        }
      ]
    },
    {
      "cell_type": "code",
      "source": [
        "# dataframe: waterpoint not permitted\n",
        "permit_false = dff.loc[dff['permit'] == False]"
      ],
      "metadata": {
        "id": "6yJ3f2kfCdcD"
      },
      "execution_count": null,
      "outputs": []
    },
    {
      "cell_type": "code",
      "source": [
        "print(permit_false.shape)\n",
        "permit_false['status_group'].value_counts(normalize=True)"
      ],
      "metadata": {
        "colab": {
          "base_uri": "https://localhost:8080/"
        },
        "id": "qE0746QjEBt9",
        "outputId": "3a0d6171-7ee1-49b2-e759-476ab081d49d"
      },
      "execution_count": null,
      "outputs": [
        {
          "output_type": "stream",
          "name": "stdout",
          "text": [
            "(14053, 40)\n"
          ]
        },
        {
          "output_type": "execute_result",
          "data": {
            "text/plain": [
              "functional                 0.519533\n",
              "non functional             0.404896\n",
              "functional needs repair    0.075571\n",
              "Name: status_group, dtype: float64"
            ]
          },
          "metadata": {},
          "execution_count": 100
        }
      ]
    },
    {
      "cell_type": "code",
      "source": [
        "# dataframe: waterpoint permitted\n",
        "permit_true = dff.loc[dff['permit'] == True]"
      ],
      "metadata": {
        "id": "8y2_jU2_NLer"
      },
      "execution_count": null,
      "outputs": []
    },
    {
      "cell_type": "code",
      "source": [
        "print(permit_true.shape)\n",
        "permit_true['status_group'].value_counts(normalize=True)"
      ],
      "metadata": {
        "colab": {
          "base_uri": "https://localhost:8080/"
        },
        "id": "V4Of3wbmNRW7",
        "outputId": "850a6ff9-c7d5-4fa7-d95c-9ce797e9c0ea"
      },
      "execution_count": null,
      "outputs": [
        {
          "output_type": "stream",
          "name": "stdout",
          "text": [
            "(31028, 40)\n"
          ]
        },
        {
          "output_type": "execute_result",
          "data": {
            "text/plain": [
              "functional                 0.553436\n",
              "non functional             0.376628\n",
              "functional needs repair    0.069937\n",
              "Name: status_group, dtype: float64"
            ]
          },
          "metadata": {},
          "execution_count": 102
        }
      ]
    },
    {
      "cell_type": "code",
      "source": [
        "# extraction type columns analysis\n",
        "dff_extract = dff[['status_group','extraction_type', 'extraction_type_group', 'extraction_type_class']]\n",
        "\n",
        "dff_extract.head()"
      ],
      "metadata": {
        "colab": {
          "base_uri": "https://localhost:8080/",
          "height": 237
        },
        "id": "VwpB-67XNVKz",
        "outputId": "867fafae-d506-43fa-b608-3fa034deb8cc"
      },
      "execution_count": null,
      "outputs": [
        {
          "output_type": "execute_result",
          "data": {
            "text/html": [
              "\n",
              "  <div id=\"df-a0219a51-dd8e-44e3-9ea1-2092e8eabff4\">\n",
              "    <div class=\"colab-df-container\">\n",
              "      <div>\n",
              "<style scoped>\n",
              "    .dataframe tbody tr th:only-of-type {\n",
              "        vertical-align: middle;\n",
              "    }\n",
              "\n",
              "    .dataframe tbody tr th {\n",
              "        vertical-align: top;\n",
              "    }\n",
              "\n",
              "    .dataframe thead th {\n",
              "        text-align: right;\n",
              "    }\n",
              "</style>\n",
              "<table border=\"1\" class=\"dataframe\">\n",
              "  <thead>\n",
              "    <tr style=\"text-align: right;\">\n",
              "      <th></th>\n",
              "      <th>status_group</th>\n",
              "      <th>extraction_type</th>\n",
              "      <th>extraction_type_group</th>\n",
              "      <th>extraction_type_class</th>\n",
              "    </tr>\n",
              "    <tr>\n",
              "      <th>id</th>\n",
              "      <th></th>\n",
              "      <th></th>\n",
              "      <th></th>\n",
              "      <th></th>\n",
              "    </tr>\n",
              "  </thead>\n",
              "  <tbody>\n",
              "    <tr>\n",
              "      <th>454</th>\n",
              "      <td>functional</td>\n",
              "      <td>gravity</td>\n",
              "      <td>gravity</td>\n",
              "      <td>gravity</td>\n",
              "    </tr>\n",
              "    <tr>\n",
              "      <th>510</th>\n",
              "      <td>functional</td>\n",
              "      <td>india mark ii</td>\n",
              "      <td>india mark ii</td>\n",
              "      <td>handpump</td>\n",
              "    </tr>\n",
              "    <tr>\n",
              "      <th>14146</th>\n",
              "      <td>non functional</td>\n",
              "      <td>other</td>\n",
              "      <td>other</td>\n",
              "      <td>other</td>\n",
              "    </tr>\n",
              "    <tr>\n",
              "      <th>47410</th>\n",
              "      <td>non functional</td>\n",
              "      <td>gravity</td>\n",
              "      <td>gravity</td>\n",
              "      <td>gravity</td>\n",
              "    </tr>\n",
              "    <tr>\n",
              "      <th>1288</th>\n",
              "      <td>non functional</td>\n",
              "      <td>other</td>\n",
              "      <td>other</td>\n",
              "      <td>other</td>\n",
              "    </tr>\n",
              "  </tbody>\n",
              "</table>\n",
              "</div>\n",
              "      <button class=\"colab-df-convert\" onclick=\"convertToInteractive('df-a0219a51-dd8e-44e3-9ea1-2092e8eabff4')\"\n",
              "              title=\"Convert this dataframe to an interactive table.\"\n",
              "              style=\"display:none;\">\n",
              "        \n",
              "  <svg xmlns=\"http://www.w3.org/2000/svg\" height=\"24px\"viewBox=\"0 0 24 24\"\n",
              "       width=\"24px\">\n",
              "    <path d=\"M0 0h24v24H0V0z\" fill=\"none\"/>\n",
              "    <path d=\"M18.56 5.44l.94 2.06.94-2.06 2.06-.94-2.06-.94-.94-2.06-.94 2.06-2.06.94zm-11 1L8.5 8.5l.94-2.06 2.06-.94-2.06-.94L8.5 2.5l-.94 2.06-2.06.94zm10 10l.94 2.06.94-2.06 2.06-.94-2.06-.94-.94-2.06-.94 2.06-2.06.94z\"/><path d=\"M17.41 7.96l-1.37-1.37c-.4-.4-.92-.59-1.43-.59-.52 0-1.04.2-1.43.59L10.3 9.45l-7.72 7.72c-.78.78-.78 2.05 0 2.83L4 21.41c.39.39.9.59 1.41.59.51 0 1.02-.2 1.41-.59l7.78-7.78 2.81-2.81c.8-.78.8-2.07 0-2.86zM5.41 20L4 18.59l7.72-7.72 1.47 1.35L5.41 20z\"/>\n",
              "  </svg>\n",
              "      </button>\n",
              "      \n",
              "  <style>\n",
              "    .colab-df-container {\n",
              "      display:flex;\n",
              "      flex-wrap:wrap;\n",
              "      gap: 12px;\n",
              "    }\n",
              "\n",
              "    .colab-df-convert {\n",
              "      background-color: #E8F0FE;\n",
              "      border: none;\n",
              "      border-radius: 50%;\n",
              "      cursor: pointer;\n",
              "      display: none;\n",
              "      fill: #1967D2;\n",
              "      height: 32px;\n",
              "      padding: 0 0 0 0;\n",
              "      width: 32px;\n",
              "    }\n",
              "\n",
              "    .colab-df-convert:hover {\n",
              "      background-color: #E2EBFA;\n",
              "      box-shadow: 0px 1px 2px rgba(60, 64, 67, 0.3), 0px 1px 3px 1px rgba(60, 64, 67, 0.15);\n",
              "      fill: #174EA6;\n",
              "    }\n",
              "\n",
              "    [theme=dark] .colab-df-convert {\n",
              "      background-color: #3B4455;\n",
              "      fill: #D2E3FC;\n",
              "    }\n",
              "\n",
              "    [theme=dark] .colab-df-convert:hover {\n",
              "      background-color: #434B5C;\n",
              "      box-shadow: 0px 1px 3px 1px rgba(0, 0, 0, 0.15);\n",
              "      filter: drop-shadow(0px 1px 2px rgba(0, 0, 0, 0.3));\n",
              "      fill: #FFFFFF;\n",
              "    }\n",
              "  </style>\n",
              "\n",
              "      <script>\n",
              "        const buttonEl =\n",
              "          document.querySelector('#df-a0219a51-dd8e-44e3-9ea1-2092e8eabff4 button.colab-df-convert');\n",
              "        buttonEl.style.display =\n",
              "          google.colab.kernel.accessAllowed ? 'block' : 'none';\n",
              "\n",
              "        async function convertToInteractive(key) {\n",
              "          const element = document.querySelector('#df-a0219a51-dd8e-44e3-9ea1-2092e8eabff4');\n",
              "          const dataTable =\n",
              "            await google.colab.kernel.invokeFunction('convertToInteractive',\n",
              "                                                     [key], {});\n",
              "          if (!dataTable) return;\n",
              "\n",
              "          const docLinkHtml = 'Like what you see? Visit the ' +\n",
              "            '<a target=\"_blank\" href=https://colab.research.google.com/notebooks/data_table.ipynb>data table notebook</a>'\n",
              "            + ' to learn more about interactive tables.';\n",
              "          element.innerHTML = '';\n",
              "          dataTable['output_type'] = 'display_data';\n",
              "          await google.colab.output.renderOutput(dataTable, element);\n",
              "          const docLink = document.createElement('div');\n",
              "          docLink.innerHTML = docLinkHtml;\n",
              "          element.appendChild(docLink);\n",
              "        }\n",
              "      </script>\n",
              "    </div>\n",
              "  </div>\n",
              "  "
            ],
            "text/plain": [
              "         status_group  ... extraction_type_class\n",
              "id                     ...                      \n",
              "454        functional  ...               gravity\n",
              "510        functional  ...              handpump\n",
              "14146  non functional  ...                 other\n",
              "47410  non functional  ...               gravity\n",
              "1288   non functional  ...                 other\n",
              "\n",
              "[5 rows x 4 columns]"
            ]
          },
          "metadata": {},
          "execution_count": 111
        }
      ]
    },
    {
      "cell_type": "code",
      "source": [
        "# number of unique values for extraction type columns\n",
        "print(dff['extraction_type'].nunique())\n",
        "print(dff['extraction_type_group'].nunique())\n",
        "print(dff['extraction_type_class'].nunique())"
      ],
      "metadata": {
        "colab": {
          "base_uri": "https://localhost:8080/"
        },
        "id": "_xdZpHZLOy_q",
        "outputId": "58033c06-ae0f-4b64-9be7-bfac419c75ea"
      },
      "execution_count": null,
      "outputs": [
        {
          "output_type": "stream",
          "name": "stdout",
          "text": [
            "18\n",
            "13\n",
            "7\n"
          ]
        }
      ]
    },
    {
      "cell_type": "code",
      "source": [
        "# category differences and sample differences\n",
        "print(dff_extract[dff['extraction_type'] == dff['extraction_type_group']]['status_group'].shape)\n",
        "print(dff_extract[dff['extraction_type'] == dff['extraction_type_group']]['status_group'].value_counts(normalize=True))\n",
        "print(dff_extract[dff['extraction_type'] != dff['extraction_type_group']]['status_group'].shape)\n",
        "print(dff_extract[dff['extraction_type'] != dff['extraction_type_group']]['status_group'].value_counts(normalize=True))\n",
        "print(dff_extract[dff['extraction_type'] == dff['extraction_type_class']]['status_group'].shape)\n",
        "print(dff_extract[dff['extraction_type'] == dff['extraction_type_class']]['status_group'].value_counts(normalize=True))"
      ],
      "metadata": {
        "colab": {
          "base_uri": "https://localhost:8080/"
        },
        "id": "XwXT52GGPEKi",
        "outputId": "8056be92-d427-4a25-fde2-8817f69dbd4f"
      },
      "execution_count": null,
      "outputs": [
        {
          "output_type": "stream",
          "name": "stdout",
          "text": [
            "(45556,)\n",
            "functional                 0.54388\n",
            "non functional             0.38153\n",
            "functional needs repair    0.07459\n",
            "Name: status_group, dtype: float64\n",
            "(1964,)\n",
            "functional                 0.521894\n",
            "non functional             0.443483\n",
            "functional needs repair    0.034623\n",
            "Name: status_group, dtype: float64\n",
            "(30341,)\n",
            "functional                 0.518935\n",
            "non functional             0.398965\n",
            "functional needs repair    0.082100\n",
            "Name: status_group, dtype: float64\n"
          ]
        }
      ]
    },
    {
      "cell_type": "code",
      "source": [
        "# showing differing values for extraction type columns\n",
        "dff_extract.loc[dff['extraction_type'] != dff['extraction_type_group']]"
      ],
      "metadata": {
        "colab": {
          "base_uri": "https://localhost:8080/",
          "height": 454
        },
        "id": "28_K83KrPPoU",
        "outputId": "b7bfa219-cf70-4320-acd5-79ec56848409"
      },
      "execution_count": null,
      "outputs": [
        {
          "output_type": "execute_result",
          "data": {
            "text/html": [
              "\n",
              "  <div id=\"df-e1d74a72-7d4f-43ee-8ed6-f8e9e1ba3cda\">\n",
              "    <div class=\"colab-df-container\">\n",
              "      <div>\n",
              "<style scoped>\n",
              "    .dataframe tbody tr th:only-of-type {\n",
              "        vertical-align: middle;\n",
              "    }\n",
              "\n",
              "    .dataframe tbody tr th {\n",
              "        vertical-align: top;\n",
              "    }\n",
              "\n",
              "    .dataframe thead th {\n",
              "        text-align: right;\n",
              "    }\n",
              "</style>\n",
              "<table border=\"1\" class=\"dataframe\">\n",
              "  <thead>\n",
              "    <tr style=\"text-align: right;\">\n",
              "      <th></th>\n",
              "      <th>status_group</th>\n",
              "      <th>extraction_type</th>\n",
              "      <th>extraction_type_group</th>\n",
              "      <th>extraction_type_class</th>\n",
              "    </tr>\n",
              "    <tr>\n",
              "      <th>id</th>\n",
              "      <th></th>\n",
              "      <th></th>\n",
              "      <th></th>\n",
              "      <th></th>\n",
              "    </tr>\n",
              "  </thead>\n",
              "  <tbody>\n",
              "    <tr>\n",
              "      <th>12676</th>\n",
              "      <td>non functional</td>\n",
              "      <td>ksb</td>\n",
              "      <td>submersible</td>\n",
              "      <td>submersible</td>\n",
              "    </tr>\n",
              "    <tr>\n",
              "      <th>65651</th>\n",
              "      <td>functional</td>\n",
              "      <td>ksb</td>\n",
              "      <td>submersible</td>\n",
              "      <td>submersible</td>\n",
              "    </tr>\n",
              "    <tr>\n",
              "      <th>14326</th>\n",
              "      <td>functional</td>\n",
              "      <td>windmill</td>\n",
              "      <td>wind-powered</td>\n",
              "      <td>wind-powered</td>\n",
              "    </tr>\n",
              "    <tr>\n",
              "      <th>40339</th>\n",
              "      <td>functional</td>\n",
              "      <td>ksb</td>\n",
              "      <td>submersible</td>\n",
              "      <td>submersible</td>\n",
              "    </tr>\n",
              "    <tr>\n",
              "      <th>50874</th>\n",
              "      <td>non functional</td>\n",
              "      <td>ksb</td>\n",
              "      <td>submersible</td>\n",
              "      <td>submersible</td>\n",
              "    </tr>\n",
              "    <tr>\n",
              "      <th>...</th>\n",
              "      <td>...</td>\n",
              "      <td>...</td>\n",
              "      <td>...</td>\n",
              "      <td>...</td>\n",
              "    </tr>\n",
              "    <tr>\n",
              "      <th>45105</th>\n",
              "      <td>functional</td>\n",
              "      <td>ksb</td>\n",
              "      <td>submersible</td>\n",
              "      <td>submersible</td>\n",
              "    </tr>\n",
              "    <tr>\n",
              "      <th>61446</th>\n",
              "      <td>functional</td>\n",
              "      <td>cemo</td>\n",
              "      <td>other motorpump</td>\n",
              "      <td>motorpump</td>\n",
              "    </tr>\n",
              "    <tr>\n",
              "      <th>9718</th>\n",
              "      <td>non functional</td>\n",
              "      <td>ksb</td>\n",
              "      <td>submersible</td>\n",
              "      <td>submersible</td>\n",
              "    </tr>\n",
              "    <tr>\n",
              "      <th>56915</th>\n",
              "      <td>non functional</td>\n",
              "      <td>windmill</td>\n",
              "      <td>wind-powered</td>\n",
              "      <td>wind-powered</td>\n",
              "    </tr>\n",
              "    <tr>\n",
              "      <th>5457</th>\n",
              "      <td>functional</td>\n",
              "      <td>cemo</td>\n",
              "      <td>other motorpump</td>\n",
              "      <td>motorpump</td>\n",
              "    </tr>\n",
              "  </tbody>\n",
              "</table>\n",
              "<p>1964 rows × 4 columns</p>\n",
              "</div>\n",
              "      <button class=\"colab-df-convert\" onclick=\"convertToInteractive('df-e1d74a72-7d4f-43ee-8ed6-f8e9e1ba3cda')\"\n",
              "              title=\"Convert this dataframe to an interactive table.\"\n",
              "              style=\"display:none;\">\n",
              "        \n",
              "  <svg xmlns=\"http://www.w3.org/2000/svg\" height=\"24px\"viewBox=\"0 0 24 24\"\n",
              "       width=\"24px\">\n",
              "    <path d=\"M0 0h24v24H0V0z\" fill=\"none\"/>\n",
              "    <path d=\"M18.56 5.44l.94 2.06.94-2.06 2.06-.94-2.06-.94-.94-2.06-.94 2.06-2.06.94zm-11 1L8.5 8.5l.94-2.06 2.06-.94-2.06-.94L8.5 2.5l-.94 2.06-2.06.94zm10 10l.94 2.06.94-2.06 2.06-.94-2.06-.94-.94-2.06-.94 2.06-2.06.94z\"/><path d=\"M17.41 7.96l-1.37-1.37c-.4-.4-.92-.59-1.43-.59-.52 0-1.04.2-1.43.59L10.3 9.45l-7.72 7.72c-.78.78-.78 2.05 0 2.83L4 21.41c.39.39.9.59 1.41.59.51 0 1.02-.2 1.41-.59l7.78-7.78 2.81-2.81c.8-.78.8-2.07 0-2.86zM5.41 20L4 18.59l7.72-7.72 1.47 1.35L5.41 20z\"/>\n",
              "  </svg>\n",
              "      </button>\n",
              "      \n",
              "  <style>\n",
              "    .colab-df-container {\n",
              "      display:flex;\n",
              "      flex-wrap:wrap;\n",
              "      gap: 12px;\n",
              "    }\n",
              "\n",
              "    .colab-df-convert {\n",
              "      background-color: #E8F0FE;\n",
              "      border: none;\n",
              "      border-radius: 50%;\n",
              "      cursor: pointer;\n",
              "      display: none;\n",
              "      fill: #1967D2;\n",
              "      height: 32px;\n",
              "      padding: 0 0 0 0;\n",
              "      width: 32px;\n",
              "    }\n",
              "\n",
              "    .colab-df-convert:hover {\n",
              "      background-color: #E2EBFA;\n",
              "      box-shadow: 0px 1px 2px rgba(60, 64, 67, 0.3), 0px 1px 3px 1px rgba(60, 64, 67, 0.15);\n",
              "      fill: #174EA6;\n",
              "    }\n",
              "\n",
              "    [theme=dark] .colab-df-convert {\n",
              "      background-color: #3B4455;\n",
              "      fill: #D2E3FC;\n",
              "    }\n",
              "\n",
              "    [theme=dark] .colab-df-convert:hover {\n",
              "      background-color: #434B5C;\n",
              "      box-shadow: 0px 1px 3px 1px rgba(0, 0, 0, 0.15);\n",
              "      filter: drop-shadow(0px 1px 2px rgba(0, 0, 0, 0.3));\n",
              "      fill: #FFFFFF;\n",
              "    }\n",
              "  </style>\n",
              "\n",
              "      <script>\n",
              "        const buttonEl =\n",
              "          document.querySelector('#df-e1d74a72-7d4f-43ee-8ed6-f8e9e1ba3cda button.colab-df-convert');\n",
              "        buttonEl.style.display =\n",
              "          google.colab.kernel.accessAllowed ? 'block' : 'none';\n",
              "\n",
              "        async function convertToInteractive(key) {\n",
              "          const element = document.querySelector('#df-e1d74a72-7d4f-43ee-8ed6-f8e9e1ba3cda');\n",
              "          const dataTable =\n",
              "            await google.colab.kernel.invokeFunction('convertToInteractive',\n",
              "                                                     [key], {});\n",
              "          if (!dataTable) return;\n",
              "\n",
              "          const docLinkHtml = 'Like what you see? Visit the ' +\n",
              "            '<a target=\"_blank\" href=https://colab.research.google.com/notebooks/data_table.ipynb>data table notebook</a>'\n",
              "            + ' to learn more about interactive tables.';\n",
              "          element.innerHTML = '';\n",
              "          dataTable['output_type'] = 'display_data';\n",
              "          await google.colab.output.renderOutput(dataTable, element);\n",
              "          const docLink = document.createElement('div');\n",
              "          docLink.innerHTML = docLinkHtml;\n",
              "          element.appendChild(docLink);\n",
              "        }\n",
              "      </script>\n",
              "    </div>\n",
              "  </div>\n",
              "  "
            ],
            "text/plain": [
              "         status_group  ... extraction_type_class\n",
              "id                     ...                      \n",
              "12676  non functional  ...           submersible\n",
              "65651      functional  ...           submersible\n",
              "14326      functional  ...          wind-powered\n",
              "40339      functional  ...           submersible\n",
              "50874  non functional  ...           submersible\n",
              "...               ...  ...                   ...\n",
              "45105      functional  ...           submersible\n",
              "61446      functional  ...             motorpump\n",
              "9718   non functional  ...           submersible\n",
              "56915  non functional  ...          wind-powered\n",
              "5457       functional  ...             motorpump\n",
              "\n",
              "[1964 rows x 4 columns]"
            ]
          },
          "metadata": {},
          "execution_count": 112
        }
      ]
    },
    {
      "cell_type": "code",
      "source": [
        "# percentages of status_group category for extraction_type category\n",
        "dff_extract.groupby('extraction_type')['status_group'].value_counts(normalize=True)"
      ],
      "metadata": {
        "colab": {
          "base_uri": "https://localhost:8080/"
        },
        "id": "9PHitkRYVRZJ",
        "outputId": "fbddf50b-fa77-47bf-e209-279db884aa53"
      },
      "execution_count": null,
      "outputs": [
        {
          "output_type": "execute_result",
          "data": {
            "text/plain": [
              "extraction_type            status_group           \n",
              "afridev                    functional                 0.674237\n",
              "                           non functional             0.301632\n",
              "                           functional needs repair    0.024131\n",
              "cemo                       functional                 0.527027\n",
              "                           non functional             0.378378\n",
              "                           functional needs repair    0.094595\n",
              "climax                     non functional             0.750000\n",
              "                           functional                 0.250000\n",
              "gravity                    functional                 0.599438\n",
              "                           non functional             0.300187\n",
              "                           functional needs repair    0.100375\n",
              "india mark ii              functional                 0.604167\n",
              "                           non functional             0.362500\n",
              "                           functional needs repair    0.033333\n",
              "india mark iii             functional                 0.492958\n",
              "                           non functional             0.492958\n",
              "                           functional needs repair    0.014085\n",
              "ksb                        functional                 0.499550\n",
              "                           non functional             0.480648\n",
              "                           functional needs repair    0.019802\n",
              "mono                       non functional             0.575744\n",
              "                           functional                 0.378284\n",
              "                           functional needs repair    0.045972\n",
              "nira/tanira                functional                 0.664027\n",
              "                           non functional             0.256016\n",
              "                           functional needs repair    0.079957\n",
              "other                      non functional             0.805243\n",
              "                           functional                 0.161942\n",
              "                           functional needs repair    0.032816\n",
              "other - mkulima/shinyanga  non functional             1.000000\n",
              "other - play pump          non functional             0.628571\n",
              "                           functional                 0.357143\n",
              "                           functional needs repair    0.014286\n",
              "other - rope pump          functional                 0.654255\n",
              "                           non functional             0.311170\n",
              "                           functional needs repair    0.034574\n",
              "other - swn 81             functional                 0.544944\n",
              "                           non functional             0.421348\n",
              "                           functional needs repair    0.033708\n",
              "submersible                functional                 0.550247\n",
              "                           non functional             0.403012\n",
              "                           functional needs repair    0.046741\n",
              "swn 80                     functional                 0.560877\n",
              "                           non functional             0.379089\n",
              "                           functional needs repair    0.060034\n",
              "walimi                     functional                 0.463415\n",
              "                           functional needs repair    0.292683\n",
              "                           non functional             0.243902\n",
              "windmill                   non functional             0.476190\n",
              "                           functional                 0.440476\n",
              "                           functional needs repair    0.083333\n",
              "Name: status_group, dtype: float64"
            ]
          },
          "metadata": {},
          "execution_count": 138
        }
      ]
    },
    {
      "cell_type": "code",
      "source": [
        "# samples in each extraction type category for all extraction type columns\n",
        "print(dff_extract['extraction_type'].value_counts())\n",
        "print(dff_extract['extraction_type_group'].value_counts())\n",
        "print(dff_extract['extraction_type_class'].value_counts())"
      ],
      "metadata": {
        "colab": {
          "base_uri": "https://localhost:8080/"
        },
        "id": "5vDZsyjxRja3",
        "outputId": "4046c8dc-93a2-48ec-ede2-4c1e78d5e8da"
      },
      "execution_count": null,
      "outputs": [
        {
          "output_type": "stream",
          "name": "stdout",
          "text": [
            "gravity                      21340\n",
            "nira/tanira                   6566\n",
            "other                         5150\n",
            "submersible                   3851\n",
            "swn 80                        2965\n",
            "mono                          2284\n",
            "india mark ii                 1920\n",
            "afridev                       1409\n",
            "ksb                           1111\n",
            "other - rope pump              376\n",
            "other - swn 81                 178\n",
            "windmill                        84\n",
            "cemo                            74\n",
            "india mark iii                  71\n",
            "other - play pump               70\n",
            "walimi                          41\n",
            "climax                          28\n",
            "other - mkulima/shinyanga        2\n",
            "Name: extraction_type, dtype: int64\n",
            "gravity            21340\n",
            "nira/tanira         6566\n",
            "other               5150\n",
            "submersible         4962\n",
            "swn 80              2965\n",
            "mono                2284\n",
            "india mark ii       1920\n",
            "afridev             1409\n",
            "rope pump            376\n",
            "other handpump       291\n",
            "other motorpump      102\n",
            "wind-powered          84\n",
            "india mark iii        71\n",
            "Name: extraction_type_group, dtype: int64\n",
            "gravity         21340\n",
            "handpump        13222\n",
            "other            5150\n",
            "submersible      4962\n",
            "motorpump        2386\n",
            "rope pump         376\n",
            "wind-powered       84\n",
            "Name: extraction_type_class, dtype: int64\n"
          ]
        }
      ]
    },
    {
      "cell_type": "code",
      "source": [
        "# percentages of status_group category for extraction_type_group category\n",
        "dff_extract.groupby('extraction_type_group')['status_group'].value_counts(normalize=True)"
      ],
      "metadata": {
        "colab": {
          "base_uri": "https://localhost:8080/"
        },
        "id": "M1Ju7lEFVuPx",
        "outputId": "0f7f3526-c86c-49b8-c2f1-a40f15f6509c"
      },
      "execution_count": null,
      "outputs": [
        {
          "output_type": "execute_result",
          "data": {
            "text/plain": [
              "extraction_type_group  status_group           \n",
              "afridev                functional                 0.674237\n",
              "                       non functional             0.301632\n",
              "                       functional needs repair    0.024131\n",
              "gravity                functional                 0.599438\n",
              "                       non functional             0.300187\n",
              "                       functional needs repair    0.100375\n",
              "india mark ii          functional                 0.604167\n",
              "                       non functional             0.362500\n",
              "                       functional needs repair    0.033333\n",
              "india mark iii         functional                 0.492958\n",
              "                       non functional             0.492958\n",
              "                       functional needs repair    0.014085\n",
              "mono                   non functional             0.575744\n",
              "                       functional                 0.378284\n",
              "                       functional needs repair    0.045972\n",
              "nira/tanira            functional                 0.664027\n",
              "                       non functional             0.256016\n",
              "                       functional needs repair    0.079957\n",
              "other                  non functional             0.805243\n",
              "                       functional                 0.161942\n",
              "                       functional needs repair    0.032816\n",
              "other handpump         functional                 0.484536\n",
              "                       non functional             0.450172\n",
              "                       functional needs repair    0.065292\n",
              "other motorpump        non functional             0.480392\n",
              "                       functional                 0.450980\n",
              "                       functional needs repair    0.068627\n",
              "rope pump              functional                 0.654255\n",
              "                       non functional             0.311170\n",
              "                       functional needs repair    0.034574\n",
              "submersible            functional                 0.538896\n",
              "                       non functional             0.420395\n",
              "                       functional needs repair    0.040709\n",
              "swn 80                 functional                 0.560877\n",
              "                       non functional             0.379089\n",
              "                       functional needs repair    0.060034\n",
              "wind-powered           non functional             0.476190\n",
              "                       functional                 0.440476\n",
              "                       functional needs repair    0.083333\n",
              "Name: status_group, dtype: float64"
            ]
          },
          "metadata": {},
          "execution_count": 142
        }
      ]
    },
    {
      "cell_type": "code",
      "source": [
        "# percentages of status_group category for management\n",
        "dff.groupby('management')['status_group'].value_counts(normalize= True)"
      ],
      "metadata": {
        "colab": {
          "base_uri": "https://localhost:8080/"
        },
        "id": "JZldMCfdYxok",
        "outputId": "242f6054-accd-4b1c-d422-b1cfb60e228e"
      },
      "execution_count": null,
      "outputs": [
        {
          "output_type": "execute_result",
          "data": {
            "text/plain": [
              "management        status_group           \n",
              "company           non functional             0.583969\n",
              "                  functional                 0.395038\n",
              "                  functional needs repair    0.020992\n",
              "other             functional                 0.606149\n",
              "                  non functional             0.329429\n",
              "                  functional needs repair    0.064422\n",
              "other - school    non functional             0.753086\n",
              "                  functional                 0.234568\n",
              "                  functional needs repair    0.012346\n",
              "parastatal        functional                 0.578910\n",
              "                  non functional             0.302194\n",
              "                  functional needs repair    0.118896\n",
              "private operator  functional                 0.756066\n",
              "                  non functional             0.220307\n",
              "                  functional needs repair    0.023627\n",
              "trust             functional                 0.539683\n",
              "                  non functional             0.365079\n",
              "                  functional needs repair    0.095238\n",
              "unknown           non functional             0.539474\n",
              "                  functional                 0.405702\n",
              "                  functional needs repair    0.054825\n",
              "vwc               functional                 0.504606\n",
              "                  non functional             0.426621\n",
              "                  functional needs repair    0.068772\n",
              "water authority   functional                 0.483240\n",
              "                  non functional             0.458101\n",
              "                  functional needs repair    0.058659\n",
              "water board       functional                 0.739037\n",
              "                  non functional             0.169390\n",
              "                  functional needs repair    0.091574\n",
              "wua               functional                 0.690605\n",
              "                  non functional             0.230694\n",
              "                  functional needs repair    0.078701\n",
              "wug               functional                 0.594735\n",
              "                  non functional             0.303997\n",
              "                  functional needs repair    0.101268\n",
              "Name: status_group, dtype: float64"
            ]
          },
          "metadata": {},
          "execution_count": 145
        }
      ]
    },
    {
      "cell_type": "code",
      "source": [
        "# smaller grouping of management types (less specific)\n",
        "dff['management_group'].value_counts()"
      ],
      "metadata": {
        "colab": {
          "base_uri": "https://localhost:8080/"
        },
        "id": "-BfYqSKnY4o8",
        "outputId": "d1e0f9e7-b867-4b83-883f-5dd5cf6a7181"
      },
      "execution_count": null,
      "outputs": [
        {
          "output_type": "execute_result",
          "data": {
            "text/plain": [
              "user-group    42018\n",
              "commercial     2869\n",
              "parastatal     1413\n",
              "other           764\n",
              "unknown         456\n",
              "Name: management_group, dtype: int64"
            ]
          },
          "metadata": {},
          "execution_count": 147
        }
      ]
    },
    {
      "cell_type": "code",
      "source": [
        "# sample size for payment columns (duplicates)\n",
        "print(dff['payment'].value_counts())\n",
        "print(dff['payment_type'].value_counts())"
      ],
      "metadata": {
        "colab": {
          "base_uri": "https://localhost:8080/"
        },
        "id": "JMKQCLwkZDGF",
        "outputId": "aae246dd-fc0c-41d4-9df0-eba22cc1824d"
      },
      "execution_count": null,
      "outputs": [
        {
          "output_type": "stream",
          "name": "stdout",
          "text": [
            "never pay                20318\n",
            "pay per bucket            7223\n",
            "pay monthly               6574\n",
            "unknown                   6521\n",
            "pay when scheme fails     3154\n",
            "pay annually              2886\n",
            "other                      844\n",
            "Name: payment, dtype: int64\n",
            "never pay     20318\n",
            "per bucket     7223\n",
            "monthly        6574\n",
            "unknown        6521\n",
            "on failure     3154\n",
            "annually       2886\n",
            "other           844\n",
            "Name: payment_type, dtype: int64\n"
          ]
        }
      ]
    },
    {
      "cell_type": "code",
      "source": [
        "# percentages of status group by payment\n",
        "dff.groupby('payment')['status_group'].value_counts(normalize=True)"
      ],
      "metadata": {
        "colab": {
          "base_uri": "https://localhost:8080/"
        },
        "id": "C9Q-gucgaJ0t",
        "outputId": "24edca3e-dff0-4a06-ed90-f6ef1be2163d"
      },
      "execution_count": null,
      "outputs": [
        {
          "output_type": "execute_result",
          "data": {
            "text/plain": [
              "payment                status_group           \n",
              "never pay              non functional             0.475440\n",
              "                       functional                 0.449503\n",
              "                       functional needs repair    0.075057\n",
              "other                  functional                 0.582938\n",
              "                       non functional             0.302133\n",
              "                       functional needs repair    0.114929\n",
              "pay annually           functional                 0.751213\n",
              "                       non functional             0.180873\n",
              "                       functional needs repair    0.067914\n",
              "pay monthly            functional                 0.661089\n",
              "                       non functional             0.226650\n",
              "                       functional needs repair    0.112260\n",
              "pay per bucket         functional                 0.677281\n",
              "                       non functional             0.277862\n",
              "                       functional needs repair    0.044857\n",
              "pay when scheme fails  functional                 0.617945\n",
              "                       non functional             0.308180\n",
              "                       functional needs repair    0.073874\n",
              "unknown                non functional             0.513111\n",
              "                       functional                 0.432756\n",
              "                       functional needs repair    0.054133\n",
              "Name: status_group, dtype: float64"
            ]
          },
          "metadata": {},
          "execution_count": 153
        }
      ]
    },
    {
      "cell_type": "code",
      "source": [
        "# sample sizes by water quality\n",
        "print(dff['water_quality'].value_counts())\n",
        "print(dff['quality_group'].value_counts())"
      ],
      "metadata": {
        "colab": {
          "base_uri": "https://localhost:8080/"
        },
        "id": "WhzApkafaSXE",
        "outputId": "dd25070f-f8db-4066-b0cf-ecfc98358ab2"
      },
      "execution_count": null,
      "outputs": [
        {
          "output_type": "stream",
          "name": "stdout",
          "text": [
            "soft                  40633\n",
            "salty                  3911\n",
            "unknown                1490\n",
            "milky                   650\n",
            "coloured                395\n",
            "salty abandoned         262\n",
            "fluoride                166\n",
            "fluoride abandoned       13\n",
            "Name: water_quality, dtype: int64\n",
            "good        40633\n",
            "salty        4173\n",
            "unknown      1490\n",
            "milky         650\n",
            "colored       395\n",
            "fluoride      179\n",
            "Name: quality_group, dtype: int64\n"
          ]
        }
      ]
    },
    {
      "cell_type": "code",
      "source": [
        "# percentages of status_group by water quality (w/ abandoned)\n",
        "dff.groupby('water_quality')['status_group'].value_counts(normalize=True)"
      ],
      "metadata": {
        "colab": {
          "base_uri": "https://localhost:8080/"
        },
        "id": "azKZIFTjbX59",
        "outputId": "d331bfc5-3586-408a-ef60-95fdd13360bd"
      },
      "execution_count": null,
      "outputs": [
        {
          "output_type": "execute_result",
          "data": {
            "text/plain": [
              "water_quality       status_group           \n",
              "coloured            functional                 0.524051\n",
              "                    non functional             0.382278\n",
              "                    functional needs repair    0.093671\n",
              "fluoride            functional                 0.783133\n",
              "                    non functional             0.150602\n",
              "                    functional needs repair    0.066265\n",
              "fluoride abandoned  non functional             0.615385\n",
              "                    functional                 0.384615\n",
              "milky               functional                 0.547692\n",
              "                    non functional             0.432308\n",
              "                    functional needs repair    0.020000\n",
              "salty               non functional             0.497571\n",
              "                    functional                 0.455127\n",
              "                    functional needs repair    0.047302\n",
              "salty abandoned     functional                 0.511450\n",
              "                    non functional             0.274809\n",
              "                    functional needs repair    0.213740\n",
              "soft                functional                 0.565821\n",
              "                    non functional             0.357050\n",
              "                    functional needs repair    0.077129\n",
              "unknown             non functional             0.846309\n",
              "                    functional                 0.133557\n",
              "                    functional needs repair    0.020134\n",
              "Name: status_group, dtype: float64"
            ]
          },
          "metadata": {},
          "execution_count": 155
        }
      ]
    },
    {
      "cell_type": "code",
      "source": [
        "# sample sizes by water quantity\n",
        "print(dff['quantity'].value_counts())\n",
        "print(dff['quantity_group'].value_counts())"
      ],
      "metadata": {
        "colab": {
          "base_uri": "https://localhost:8080/"
        },
        "id": "aBJ5EhPYblmG",
        "outputId": "9e01a191-23f7-4c15-fb56-b0280ffb4eb8"
      },
      "execution_count": null,
      "outputs": [
        {
          "output_type": "stream",
          "name": "stdout",
          "text": [
            "enough          26538\n",
            "insufficient    12104\n",
            "dry              5024\n",
            "seasonal         3225\n",
            "unknown           629\n",
            "Name: quantity, dtype: int64\n",
            "enough          26538\n",
            "insufficient    12104\n",
            "dry              5024\n",
            "seasonal         3225\n",
            "unknown           629\n",
            "Name: quantity_group, dtype: int64\n"
          ]
        }
      ]
    },
    {
      "cell_type": "code",
      "source": [
        "# percentages of status_group by quantity\n",
        "dff.groupby('quantity')['status_group'].value_counts(normalize=True)"
      ],
      "metadata": {
        "colab": {
          "base_uri": "https://localhost:8080/"
        },
        "id": "5nKhfhrUcN6V",
        "outputId": "4fad9219-e938-46da-9d51-78431afef208"
      },
      "execution_count": null,
      "outputs": [
        {
          "output_type": "execute_result",
          "data": {
            "text/plain": [
              "quantity      status_group           \n",
              "dry           non functional             0.968352\n",
              "              functional                 0.025677\n",
              "              functional needs repair    0.005971\n",
              "enough        functional                 0.652461\n",
              "              non functional             0.274700\n",
              "              functional needs repair    0.072839\n",
              "insufficient  functional                 0.524537\n",
              "              non functional             0.379627\n",
              "              functional needs repair    0.095836\n",
              "seasonal      functional                 0.571473\n",
              "              non functional             0.325891\n",
              "              functional needs repair    0.102636\n",
              "unknown       non functional             0.717011\n",
              "              functional                 0.263911\n",
              "              functional needs repair    0.019078\n",
              "Name: status_group, dtype: float64"
            ]
          },
          "metadata": {},
          "execution_count": 158
        }
      ]
    },
    {
      "cell_type": "code",
      "source": [
        "# sample sizes by water quantity\n",
        "print(dff['source'].value_counts())\n",
        "print(dff['source_type'].value_counts())\n",
        "print(dff['source_class'].value_counts())"
      ],
      "metadata": {
        "colab": {
          "base_uri": "https://localhost:8080/"
        },
        "id": "EbYVUDR2cbb3",
        "outputId": "5e5cd4b7-c0ac-4aca-8bd0-4de3bda188a3"
      },
      "execution_count": null,
      "outputs": [
        {
          "output_type": "stream",
          "name": "stdout",
          "text": [
            "shallow well            13540\n",
            "spring                  13537\n",
            "machine dbh              8849\n",
            "river                    7719\n",
            "rainwater harvesting     1829\n",
            "hand dtw                  701\n",
            "lake                      606\n",
            "dam                       505\n",
            "other                     178\n",
            "unknown                    56\n",
            "Name: source, dtype: int64\n",
            "shallow well            13540\n",
            "spring                  13537\n",
            "borehole                 9550\n",
            "river/lake               8325\n",
            "rainwater harvesting     1829\n",
            "dam                       505\n",
            "other                     234\n",
            "Name: source_type, dtype: int64\n",
            "groundwater    36627\n",
            "surface        10659\n",
            "unknown          234\n",
            "Name: source_class, dtype: int64\n"
          ]
        }
      ]
    },
    {
      "cell_type": "code",
      "source": [
        "# percentages of status_group by water source\n",
        "dff.groupby('source')['status_group'].value_counts(normalize=True)"
      ],
      "metadata": {
        "colab": {
          "base_uri": "https://localhost:8080/"
        },
        "id": "ePVc2o0mc6xV",
        "outputId": "1d93e5ac-28a7-42f7-d3ce-b89bf1181401"
      },
      "execution_count": null,
      "outputs": [
        {
          "output_type": "execute_result",
          "data": {
            "text/plain": [
              "source                status_group           \n",
              "dam                   non functional             0.578218\n",
              "                      functional                 0.382178\n",
              "                      functional needs repair    0.039604\n",
              "hand dtw              functional                 0.557775\n",
              "                      non functional             0.423680\n",
              "                      functional needs repair    0.018545\n",
              "lake                  non functional             0.773927\n",
              "                      functional                 0.211221\n",
              "                      functional needs repair    0.014851\n",
              "machine dbh           functional                 0.492824\n",
              "                      non functional             0.462764\n",
              "                      functional needs repair    0.044412\n",
              "other                 functional                 0.595506\n",
              "                      non functional             0.398876\n",
              "                      functional needs repair    0.005618\n",
              "rainwater harvesting  functional                 0.603062\n",
              "                      non functional             0.258611\n",
              "                      functional needs repair    0.138327\n",
              "river                 functional                 0.563804\n",
              "                      non functional             0.310014\n",
              "                      functional needs repair    0.126182\n",
              "shallow well          functional                 0.494018\n",
              "                      non functional             0.447489\n",
              "                      functional needs repair    0.058493\n",
              "spring                functional                 0.624363\n",
              "                      non functional             0.301175\n",
              "                      functional needs repair    0.074463\n",
              "unknown               functional                 0.482143\n",
              "                      non functional             0.464286\n",
              "                      functional needs repair    0.053571\n",
              "Name: status_group, dtype: float64"
            ]
          },
          "metadata": {},
          "execution_count": 160
        }
      ]
    },
    {
      "cell_type": "code",
      "source": [
        "# sample sizes by water quantity\n",
        "print(dff['waterpoint_type'].value_counts())\n",
        "print(dff['waterpoint_type_group'].value_counts())"
      ],
      "metadata": {
        "colab": {
          "base_uri": "https://localhost:8080/"
        },
        "id": "OteNPF98dcKQ",
        "outputId": "45152316-fac7-47ce-d6b6-d685b863a58e"
      },
      "execution_count": null,
      "outputs": [
        {
          "output_type": "stream",
          "name": "stdout",
          "text": [
            "communal standpipe             22785\n",
            "hand pump                      14073\n",
            "other                           5098\n",
            "communal standpipe multiple     4830\n",
            "improved spring                  639\n",
            "cattle trough                     91\n",
            "dam                                4\n",
            "Name: waterpoint_type, dtype: int64\n",
            "communal standpipe    27615\n",
            "hand pump             14073\n",
            "other                  5098\n",
            "improved spring         639\n",
            "cattle trough            91\n",
            "dam                       4\n",
            "Name: waterpoint_type_group, dtype: int64\n"
          ]
        }
      ]
    },
    {
      "cell_type": "code",
      "source": [
        "# percentages of status_group by waterpoint type\n",
        "dff.groupby('waterpoint_type')['status_group'].value_counts(normalize=True)"
      ],
      "metadata": {
        "colab": {
          "base_uri": "https://localhost:8080/"
        },
        "id": "lD865XcQdt_4",
        "outputId": "45ce222a-3610-4b14-febb-47a5c18fa540"
      },
      "execution_count": null,
      "outputs": [
        {
          "output_type": "execute_result",
          "data": {
            "text/plain": [
              "waterpoint_type              status_group           \n",
              "cattle trough                functional                 0.758242\n",
              "                             non functional             0.230769\n",
              "                             functional needs repair    0.010989\n",
              "communal standpipe           functional                 0.622646\n",
              "                             non functional             0.298881\n",
              "                             functional needs repair    0.078473\n",
              "communal standpipe multiple  non functional             0.529193\n",
              "                             functional                 0.363975\n",
              "                             functional needs repair    0.106832\n",
              "dam                          functional                 0.750000\n",
              "                             non functional             0.250000\n",
              "hand pump                    functional                 0.615505\n",
              "                             non functional             0.324167\n",
              "                             functional needs repair    0.060328\n",
              "improved spring              functional                 0.704225\n",
              "                             non functional             0.178404\n",
              "                             functional needs repair    0.117371\n",
              "other                        non functional             0.821499\n",
              "                             functional                 0.132013\n",
              "                             functional needs repair    0.046489\n",
              "Name: status_group, dtype: float64"
            ]
          },
          "metadata": {},
          "execution_count": 162
        }
      ]
    },
    {
      "cell_type": "code",
      "source": [
        "# percentages of status_group by total static head\n",
        "dff.groupby('amount_tsh')['status_group'].value_counts()"
      ],
      "metadata": {
        "colab": {
          "base_uri": "https://localhost:8080/"
        },
        "id": "L3psAJwyeBSA",
        "outputId": "bca2dd8a-daaa-4bb0-d9f3-8a4393b195f8"
      },
      "execution_count": null,
      "outputs": [
        {
          "output_type": "execute_result",
          "data": {
            "text/plain": [
              "amount_tsh  status_group           \n",
              "0.00        functional                 15778\n",
              "            non functional             15101\n",
              "            functional needs repair     2452\n",
              "0.20        non functional                 2\n",
              "0.25        functional                     1\n",
              "                                       ...  \n",
              "120000.00   functional                     1\n",
              "170000.00   functional                     1\n",
              "200000.00   functional                     1\n",
              "250000.00   functional                     1\n",
              "350000.00   functional                     1\n",
              "Name: status_group, Length: 184, dtype: int64"
            ]
          },
          "metadata": {},
          "execution_count": 163
        }
      ]
    },
    {
      "cell_type": "code",
      "source": [
        "# percentages of status_group by funder\n",
        "dff.groupby('funder')['status_group'].value_counts()"
      ],
      "metadata": {
        "colab": {
          "base_uri": "https://localhost:8080/"
        },
        "id": "bi93MzvTfJz3",
        "outputId": "6ae32195-c1a2-489a-dbe5-cad7990e07c8"
      },
      "execution_count": null,
      "outputs": [
        {
          "output_type": "execute_result",
          "data": {
            "text/plain": [
              "funder               status_group           \n",
              "0                    functional                 359\n",
              "                     non functional             272\n",
              "                     functional needs repair      2\n",
              "A/co Germany         functional                   6\n",
              "                     non functional               5\n",
              "                                               ... \n",
              "Zaburi And Neig      functional                   1\n",
              "Zao Water Spring     functional                   3\n",
              "Zao Water Spring X   non functional               1\n",
              "Zinduka              functional                   1\n",
              "Zingibali Secondary  functional                   1\n",
              "Name: status_group, Length: 2515, dtype: int64"
            ]
          },
          "metadata": {},
          "execution_count": 164
        }
      ]
    },
    {
      "cell_type": "code",
      "source": [
        "# percentages of status_group by altitude\n",
        "dff.groupby('gps_height')['status_group'].value_counts()"
      ],
      "metadata": {
        "colab": {
          "base_uri": "https://localhost:8080/"
        },
        "id": "F9xNoQT_iZqJ",
        "outputId": "f44f9bbb-ad73-4aa8-8319-5ec9ad8aa5b3"
      },
      "execution_count": null,
      "outputs": [
        {
          "output_type": "execute_result",
          "data": {
            "text/plain": [
              "gps_height  status_group           \n",
              "-63         functional                 2\n",
              "-59         non functional             1\n",
              "-57         functional                 1\n",
              "-55         non functional             1\n",
              "-54         non functional             1\n",
              "                                      ..\n",
              " 2614       functional                 1\n",
              " 2626       functional                 2\n",
              " 2627       non functional             1\n",
              " 2628       functional                 1\n",
              " 2770       functional needs repair    1\n",
              "Name: status_group, Length: 5580, dtype: int64"
            ]
          },
          "metadata": {},
          "execution_count": 165
        }
      ]
    },
    {
      "cell_type": "code",
      "source": [
        "# percentages of status_group by installer\n",
        "dff.groupby('installer')['status_group'].value_counts().head(40)"
      ],
      "metadata": {
        "colab": {
          "base_uri": "https://localhost:8080/"
        },
        "id": "KiMLOFxLjYb6",
        "outputId": "68bebf4e-bc9e-4c9e-d9b5-1dd43249c185"
      },
      "execution_count": null,
      "outputs": [
        {
          "output_type": "execute_result",
          "data": {
            "text/plain": [
              "installer                       status_group           \n",
              "-                               functional                   2\n",
              "                                non functional               1\n",
              "0                               functional                 359\n",
              "                                non functional             272\n",
              "                                functional needs repair      2\n",
              "A.D.B                           functional needs repair      1\n",
              "AAR                             functional needs repair      2\n",
              "                                non functional               2\n",
              "ABASIA                          functional                  16\n",
              "                                non functional               4\n",
              "                                functional needs repair      1\n",
              "ABDUL                           non functional               1\n",
              "AC                              functional                   2\n",
              "ACORD                           non functional               2\n",
              "ACRA                            functional                 220\n",
              "                                non functional               5\n",
              "ACTION AID                      functional                   1\n",
              "ACTIVE TANK CO                  functional                   8\n",
              "ACTIVE TANK CO LTD              functional                   2\n",
              "AD                              functional                  10\n",
              "                                non functional               1\n",
              "ADAP                            non functional               3\n",
              "                                functional                   1\n",
              "ADB                             non functional               3\n",
              "                                functional                   2\n",
              "ADP                             functional                  10\n",
              "                                non functional               6\n",
              "ADP Busangi                     functional                   6\n",
              "                                non functional               3\n",
              "ADRA                            functional                  36\n",
              "                                non functional               6\n",
              "ADRA /Government                functional                   3\n",
              "ADRA/Government                 functional                   3\n",
              "AF                              non functional               4\n",
              "AFRICA                          functional                   2\n",
              "AFRICA MUSLIM                   functional                   1\n",
              "AFRICAN DEVELOPMENT FOUNDATION  non functional               5\n",
              "AFRICAN REFLECTIONS FOUNDATION  non functional               1\n",
              "AGRICAN                         functional                   1\n",
              "AI                              non functional               9\n",
              "Name: status_group, dtype: int64"
            ]
          },
          "metadata": {},
          "execution_count": 169
        }
      ]
    },
    {
      "cell_type": "code",
      "source": [
        "# percentages of status_group by waterpoint name\n",
        "dff.groupby('wpt_name')['status_group'].value_counts().sort_values()"
      ],
      "metadata": {
        "colab": {
          "base_uri": "https://localhost:8080/"
        },
        "id": "r5k4ZyGJjx2l",
        "outputId": "a8f7524c-a39f-4fa4-df94-1838a8cd0289"
      },
      "execution_count": null,
      "outputs": [
        {
          "output_type": "execute_result",
          "data": {
            "text/plain": [
              "wpt_name     status_group           \n",
              "A Kulwa      non functional                1\n",
              "Kwaamini     non functional                1\n",
              "Kwaambapo    functional                    1\n",
              "Kwaaluwani   non functional                1\n",
              "Kwaalphonce  functional needs repair       1\n",
              "                                        ... \n",
              "Zahanati     functional                  336\n",
              "Shuleni      non functional              578\n",
              "             functional                  668\n",
              "none         non functional              675\n",
              "             functional                 2119\n",
              "Name: status_group, Length: 33167, dtype: int64"
            ]
          },
          "metadata": {},
          "execution_count": 171
        }
      ]
    },
    {
      "cell_type": "code",
      "source": [
        "# percentages of status_group by waterpoint name\n",
        "dff.groupby('num_private')['status_group'].value_counts().head(30)"
      ],
      "metadata": {
        "colab": {
          "base_uri": "https://localhost:8080/"
        },
        "id": "s67WCyWskkoB",
        "outputId": "8030f3a1-ef7e-4fde-d53b-86dc743f0697"
      },
      "execution_count": null,
      "outputs": [
        {
          "output_type": "execute_result",
          "data": {
            "text/plain": [
              "num_private  status_group           \n",
              "0            functional                 25421\n",
              "             non functional             18054\n",
              "             functional needs repair     3428\n",
              "1            functional                    30\n",
              "             non functional                23\n",
              "             functional needs repair        3\n",
              "2            functional                    11\n",
              "             non functional                 8\n",
              "3            non functional                11\n",
              "             functional                     9\n",
              "             functional needs repair        2\n",
              "4            non functional                 8\n",
              "             functional                     7\n",
              "5            functional                    23\n",
              "             non functional                14\n",
              "6            functional                    45\n",
              "             non functional                12\n",
              "             functional needs repair        4\n",
              "7            functional                    15\n",
              "             non functional                 8\n",
              "             functional needs repair        1\n",
              "8            functional                    25\n",
              "             functional needs repair        7\n",
              "             non functional                 5\n",
              "9            functional                     2\n",
              "             non functional                 1\n",
              "10           functional                     4\n",
              "11           functional                     4\n",
              "             non functional                 4\n",
              "12           functional                     3\n",
              "Name: status_group, dtype: int64"
            ]
          },
          "metadata": {},
          "execution_count": 173
        }
      ]
    },
    {
      "cell_type": "code",
      "source": [
        "# percentages of status_group by local government area\n",
        "dff.groupby('lga')['status_group'].value_counts()"
      ],
      "metadata": {
        "colab": {
          "base_uri": "https://localhost:8080/"
        },
        "id": "e2UudohslBb-",
        "outputId": "4e7ad76d-6af4-4cdf-e412-f08ea3f98aa6"
      },
      "execution_count": null,
      "outputs": [
        {
          "output_type": "execute_result",
          "data": {
            "text/plain": [
              "lga           status_group           \n",
              "Arusha Rural  functional                 706\n",
              "              non functional             259\n",
              "              functional needs repair     36\n",
              "Arusha Urban  functional                  35\n",
              "              non functional              13\n",
              "                                        ... \n",
              "Urambo        functional                 122\n",
              "              functional needs repair     12\n",
              "Uyui          non functional             147\n",
              "              functional                 124\n",
              "              functional needs repair      7\n",
              "Name: status_group, Length: 355, dtype: int64"
            ]
          },
          "metadata": {},
          "execution_count": 182
        }
      ]
    },
    {
      "cell_type": "code",
      "source": [
        "# sample sizes for local government area\n",
        "dff['lga'].value_counts()"
      ],
      "metadata": {
        "colab": {
          "base_uri": "https://localhost:8080/"
        },
        "id": "6-gnjrvGlWEt",
        "outputId": "564e74cf-1e7d-4bb8-c0b0-ea33edb516c4"
      },
      "execution_count": null,
      "outputs": [
        {
          "output_type": "execute_result",
          "data": {
            "text/plain": [
              "Njombe          2001\n",
              "Moshi Rural     1006\n",
              "Arusha Rural    1001\n",
              "Bariadi          948\n",
              "Kilosa           876\n",
              "                ... \n",
              "Moshi Urban       64\n",
              "Arusha Urban      54\n",
              "Kigoma Urban      52\n",
              "Lindi Urban       16\n",
              "Nyamagana          1\n",
              "Name: lga, Length: 125, dtype: int64"
            ]
          },
          "metadata": {},
          "execution_count": 187
        }
      ]
    },
    {
      "cell_type": "code",
      "source": [
        "# sample sizes for population (int)\n",
        "dff['population'].value_counts()"
      ],
      "metadata": {
        "colab": {
          "base_uri": "https://localhost:8080/"
        },
        "id": "l5pKtknBmPq_",
        "outputId": "ca77a6ed-490b-4908-d46c-166d6a17f984"
      },
      "execution_count": null,
      "outputs": [
        {
          "output_type": "execute_result",
          "data": {
            "text/plain": [
              "0       17048\n",
              "1        5655\n",
              "200      1553\n",
              "150      1512\n",
              "250      1364\n",
              "        ...  \n",
              "1183        1\n",
              "2630        1\n",
              "1745        1\n",
              "633         1\n",
              "736         1\n",
              "Name: population, Length: 971, dtype: int64"
            ]
          },
          "metadata": {},
          "execution_count": 189
        }
      ]
    },
    {
      "cell_type": "code",
      "source": [
        "# keeping here for formula\n",
        "dff['population'].value_counts().loc[lambda x: x > 10]"
      ],
      "metadata": {
        "colab": {
          "base_uri": "https://localhost:8080/"
        },
        "id": "BI3EVMGynoRo",
        "outputId": "45349848-8eea-4ccc-f35c-ad72939ab8c1"
      },
      "execution_count": null,
      "outputs": [
        {
          "output_type": "execute_result",
          "data": {
            "text/plain": [
              "0      17048\n",
              "1       5655\n",
              "200     1553\n",
              "150     1512\n",
              "250     1364\n",
              "       ...  \n",
              "324       11\n",
              "563       11\n",
              "142       11\n",
              "136       11\n",
              "57        11\n",
              "Name: population, Length: 204, dtype: int64"
            ]
          },
          "metadata": {},
          "execution_count": 191
        }
      ]
    },
    {
      "cell_type": "code",
      "source": [
        "# percentages of status_group by public meeting\n",
        "dff.groupby('public_meeting')['status_group'].value_counts(normalize=True)"
      ],
      "metadata": {
        "colab": {
          "base_uri": "https://localhost:8080/"
        },
        "id": "0hNK6_vVolFx",
        "outputId": "65298af9-de87-4cb2-862e-cf43065cb5cf"
      },
      "execution_count": null,
      "outputs": [
        {
          "output_type": "execute_result",
          "data": {
            "text/plain": [
              "public_meeting  status_group           \n",
              "False           non functional             0.485568\n",
              "                functional                 0.428327\n",
              "                functional needs repair    0.086106\n",
              "True            functional                 0.557151\n",
              "                non functional             0.369610\n",
              "                functional needs repair    0.073240\n",
              "Name: status_group, dtype: float64"
            ]
          },
          "metadata": {},
          "execution_count": 193
        }
      ]
    },
    {
      "cell_type": "code",
      "source": [
        "# percentages of status_group by scheme management\n",
        "dff.groupby('scheme_management')['status_group'].value_counts()"
      ],
      "metadata": {
        "colab": {
          "base_uri": "https://localhost:8080/"
        },
        "id": "YjQS9UFppRrx",
        "outputId": "f95fd269-5f60-4a94-e329-ce4977f873fe"
      },
      "execution_count": null,
      "outputs": [
        {
          "output_type": "execute_result",
          "data": {
            "text/plain": [
              "scheme_management  status_group           \n",
              "Company            functional                   419\n",
              "                   non functional               372\n",
              "                   functional needs repair       29\n",
              "None               functional                     1\n",
              "Other              functional                   379\n",
              "                   non functional               229\n",
              "                   functional needs repair       18\n",
              "Parastatal         functional                   780\n",
              "                   non functional               403\n",
              "                   functional needs repair      163\n",
              "Private operator   functional                   602\n",
              "                   non functional               241\n",
              "                   functional needs repair       19\n",
              "SWC                non functional                58\n",
              "                   functional                    16\n",
              "                   functional needs repair        1\n",
              "Trust              functional                    33\n",
              "                   non functional                18\n",
              "                   functional needs repair        5\n",
              "VWC                functional                 15185\n",
              "                   non functional             12414\n",
              "                   functional needs repair     1863\n",
              "WUA                functional                  1595\n",
              "                   non functional               531\n",
              "                   functional needs repair      186\n",
              "WUG                functional                  2373\n",
              "                   non functional              1232\n",
              "                   functional needs repair      556\n",
              "Water Board        functional                  1616\n",
              "                   non functional               475\n",
              "                   functional needs repair       84\n",
              "Water authority    functional                  1299\n",
              "                   non functional               863\n",
              "                   functional needs repair      360\n",
              "Name: status_group, dtype: int64"
            ]
          },
          "metadata": {},
          "execution_count": 200
        }
      ]
    },
    {
      "cell_type": "code",
      "source": [
        "# percentages of status_group by scheme name\n",
        "dff['scheme_name'].value_counts()"
      ],
      "metadata": {
        "colab": {
          "base_uri": "https://localhost:8080/"
        },
        "id": "QZNWvjB6pm8J",
        "outputId": "294226fc-ee43-4a9c-e07e-94ef7bbb9f7f"
      },
      "execution_count": null,
      "outputs": [
        {
          "output_type": "execute_result",
          "data": {
            "text/plain": [
              "K                543\n",
              "None             513\n",
              "Borehole         434\n",
              "Chalinze wate    320\n",
              "M                317\n",
              "                ... \n",
              "Sola               1\n",
              "Center             1\n",
              "BL Shengai         1\n",
              "LENCH TARAMAI      1\n",
              "Nkho               1\n",
              "Name: scheme_name, Length: 2541, dtype: int64"
            ]
          },
          "metadata": {},
          "execution_count": 199
        }
      ]
    },
    {
      "cell_type": "code",
      "source": [
        "# percentages of status_group by basin\n",
        "dff.groupby('basin')['status_group'].value_counts(normalize=True)"
      ],
      "metadata": {
        "colab": {
          "base_uri": "https://localhost:8080/"
        },
        "id": "XbpttN-jpt_p",
        "outputId": "166019bc-7c91-4483-fb72-307cbb90befb"
      },
      "execution_count": null,
      "outputs": [
        {
          "output_type": "execute_result",
          "data": {
            "text/plain": [
              "basin                    status_group           \n",
              "Internal                 functional                 0.581780\n",
              "                         non functional             0.346722\n",
              "                         functional needs repair    0.071497\n",
              "Lake Nyasa               functional                 0.651221\n",
              "                         non functional             0.298954\n",
              "                         functional needs repair    0.049826\n",
              "Lake Rukwa               non functional             0.485901\n",
              "                         functional                 0.403827\n",
              "                         functional needs repair    0.110272\n",
              "Lake Tanganyika          functional                 0.482879\n",
              "                         non functional             0.398336\n",
              "                         functional needs repair    0.118785\n",
              "Lake Victoria            functional                 0.494089\n",
              "                         non functional             0.407313\n",
              "                         functional needs repair    0.098598\n",
              "Pangani                  functional                 0.603108\n",
              "                         non functional             0.344673\n",
              "                         functional needs repair    0.052219\n",
              "Rufiji                   functional                 0.636549\n",
              "                         non functional             0.311216\n",
              "                         functional needs repair    0.052235\n",
              "Ruvuma / Southern Coast  non functional             0.556944\n",
              "                         functional                 0.373333\n",
              "                         functional needs repair    0.069722\n",
              "Wami / Ruvu              functional                 0.521440\n",
              "                         non functional             0.432348\n",
              "                         functional needs repair    0.046211\n",
              "Name: status_group, dtype: float64"
            ]
          },
          "metadata": {},
          "execution_count": 207
        }
      ]
    },
    {
      "cell_type": "code",
      "source": [
        "# percentages of status_group by subvillage\n",
        "dff.groupby('subvillage')['status_group'].value_counts()"
      ],
      "metadata": {
        "colab": {
          "base_uri": "https://localhost:8080/"
        },
        "id": "6DEtwWlErFEL",
        "outputId": "b91ae1ba-4de1-43c0-f013-089fcbdbabe4"
      },
      "execution_count": null,
      "outputs": [
        {
          "output_type": "execute_result",
          "data": {
            "text/plain": [
              "subvillage  status_group           \n",
              "##          functional                  1\n",
              "'A' Kati    non functional              1\n",
              "1           non functional             51\n",
              "            functional                 41\n",
              "            functional needs repair     5\n",
              "                                       ..\n",
              "Zunga       functional                  1\n",
              "Zunguni     non functional              1\n",
              "Zunzuli     non functional              3\n",
              "            functional                  1\n",
              "Zuri        non functional              1\n",
              "Name: status_group, Length: 22340, dtype: int64"
            ]
          },
          "metadata": {},
          "execution_count": 202
        }
      ]
    },
    {
      "cell_type": "code",
      "source": [
        "# percentages of status_group by region\n",
        "dff.groupby('region')['status_group'].value_counts()"
      ],
      "metadata": {
        "colab": {
          "base_uri": "https://localhost:8080/"
        },
        "id": "VFUYS1QcrFez",
        "outputId": "3e089207-984a-4af6-91b1-de03dfa56c4f"
      },
      "execution_count": null,
      "outputs": [
        {
          "output_type": "execute_result",
          "data": {
            "text/plain": [
              "region         status_group           \n",
              "Arusha         functional                 1860\n",
              "               non functional              692\n",
              "               functional needs repair     140\n",
              "Dar es Salaam  functional                  370\n",
              "               non functional              282\n",
              "                                          ... \n",
              "Tabora         functional                  687\n",
              "               functional needs repair      38\n",
              "Tanga          functional                 1145\n",
              "               non functional              840\n",
              "               functional needs repair      67\n",
              "Name: status_group, Length: 63, dtype: int64"
            ]
          },
          "metadata": {},
          "execution_count": 203
        }
      ]
    },
    {
      "cell_type": "code",
      "source": [
        "dff.groupby('region_code')['status_group'].value_counts()"
      ],
      "metadata": {
        "colab": {
          "base_uri": "https://localhost:8080/"
        },
        "id": "ZMhWbqwBwo53",
        "outputId": "eec51454-a29d-4807-9657-95cf04d4cf08"
      },
      "execution_count": null,
      "outputs": [
        {
          "output_type": "execute_result",
          "data": {
            "text/plain": [
              "region_code  status_group           \n",
              "1            functional                  804\n",
              "             non functional              779\n",
              "             functional needs repair     172\n",
              "2            functional                 1608\n",
              "             non functional              683\n",
              "                                        ... \n",
              "90           functional                  157\n",
              "             functional needs repair      73\n",
              "99           non functional              184\n",
              "             functional                  152\n",
              "             functional needs repair       7\n",
              "Name: status_group, Length: 79, dtype: int64"
            ]
          },
          "metadata": {},
          "execution_count": 208
        }
      ]
    },
    {
      "cell_type": "code",
      "source": [
        "# region_code samples < 50\n",
        "dff.groupby('region_code')['status_group'].value_counts().loc[lambda x: x < 50]"
      ],
      "metadata": {
        "colab": {
          "base_uri": "https://localhost:8080/"
        },
        "id": "9F2J5aZOrF18",
        "outputId": "13c8df68-7973-4d6a-d5c0-a78d2e8467dd"
      },
      "execution_count": null,
      "outputs": [
        {
          "output_type": "execute_result",
          "data": {
            "text/plain": [
              "region_code  status_group           \n",
              "6            functional needs repair    10\n",
              "7            functional needs repair     2\n",
              "8            functional                 18\n",
              "             functional needs repair    11\n",
              "9            functional needs repair    15\n",
              "14           functional needs repair    39\n",
              "24           non functional              9\n",
              "             functional needs repair     1\n",
              "40           non functional              1\n",
              "60           functional needs repair    14\n",
              "99           functional needs repair     7\n",
              "Name: status_group, dtype: int64"
            ]
          },
          "metadata": {},
          "execution_count": 206
        }
      ]
    },
    {
      "cell_type": "code",
      "source": [
        "# percentages of status_group by district code\n",
        "dff.groupby('district_code')['status_group'].value_counts()"
      ],
      "metadata": {
        "colab": {
          "base_uri": "https://localhost:8080/"
        },
        "id": "UO8_bcKIrGsj",
        "outputId": "be1ac817-c34d-4b98-f313-6a1e9ebde624"
      },
      "execution_count": null,
      "outputs": [
        {
          "output_type": "execute_result",
          "data": {
            "text/plain": [
              "district_code  status_group           \n",
              "0              non functional               13\n",
              "               functional                    4\n",
              "               functional needs repair       2\n",
              "1              functional                 5203\n",
              "               non functional             3494\n",
              "               functional needs repair    1058\n",
              "2              functional                 5010\n",
              "               non functional             3292\n",
              "               functional needs repair     689\n",
              "3              functional                 3979\n",
              "               non functional             3466\n",
              "               functional needs repair     554\n",
              "4              functional                 4433\n",
              "               non functional             2338\n",
              "               functional needs repair     395\n",
              "5              functional                 1955\n",
              "               non functional             1357\n",
              "               functional needs repair     155\n",
              "6              functional                 1654\n",
              "               non functional             1428\n",
              "               functional needs repair     193\n",
              "7              functional                 1635\n",
              "               non functional              861\n",
              "               functional needs repair     167\n",
              "8              functional                  459\n",
              "               non functional              317\n",
              "               functional needs repair      42\n",
              "13             non functional              195\n",
              "               functional                   94\n",
              "               functional needs repair      24\n",
              "23             functional                  145\n",
              "               non functional               82\n",
              "               functional needs repair      20\n",
              "30             functional                  552\n",
              "               non functional              180\n",
              "               functional needs repair      63\n",
              "33             non functional              454\n",
              "               functional                  160\n",
              "               functional needs repair      73\n",
              "43             non functional              233\n",
              "               functional                  171\n",
              "               functional needs repair       4\n",
              "53             non functional              380\n",
              "               functional                  208\n",
              "               functional needs repair      19\n",
              "60             functional                   44\n",
              "               non functional                8\n",
              "               functional needs repair       3\n",
              "62             functional                   45\n",
              "               non functional               42\n",
              "63             non functional              106\n",
              "               functional                   47\n",
              "               functional needs repair       4\n",
              "67             functional                    3\n",
              "80             non functional                6\n",
              "               functional                    1\n",
              "               functional needs repair       1\n",
              "Name: status_group, dtype: int64"
            ]
          },
          "metadata": {},
          "execution_count": 205
        }
      ]
    },
    {
      "cell_type": "markdown",
      "source": [
        "### Feature Engineering Support"
      ],
      "metadata": {
        "id": "CFpY2v-4186n"
      }
    },
    {
      "cell_type": "code",
      "source": [
        "dff['year_recorded'] = pd.DatetimeIndex(dff['date_recorded']).year"
      ],
      "metadata": {
        "id": "QNYsfigSMs44"
      },
      "execution_count": null,
      "outputs": []
    },
    {
      "cell_type": "code",
      "source": [
        "dff['pump_age'] = dff['year_recorded'] - dff['construction_year']\n"
      ],
      "metadata": {
        "id": "3p8wsWt_NF7V"
      },
      "execution_count": null,
      "outputs": []
    },
    {
      "cell_type": "code",
      "source": [
        "dff['pump_age'].value_counts()"
      ],
      "metadata": {
        "colab": {
          "base_uri": "https://localhost:8080/"
        },
        "id": "Ee42Ei9xNPcH",
        "outputId": "88473b2d-f3e9-4668-cce9-020c3643b5fe"
      },
      "execution_count": null,
      "outputs": [
        {
          "output_type": "execute_result",
          "data": {
            "text/plain": [
              " 2011    10618\n",
              " 2012     4099\n",
              " 3        2233\n",
              " 1        1841\n",
              " 2013     1776\n",
              "         ...  \n",
              "-5           3\n",
              "-4           2\n",
              "-3           1\n",
              "-1           1\n",
              "-7           1\n",
              "Name: pump_age, Length: 63, dtype: int64"
            ]
          },
          "metadata": {},
          "execution_count": 234
        }
      ]
    },
    {
      "cell_type": "code",
      "source": [
        "dff['construction_year'].value_counts()"
      ],
      "metadata": {
        "colab": {
          "base_uri": "https://localhost:8080/"
        },
        "id": "0K1SPR1g2GGZ",
        "outputId": "4fc46e67-153e-4a5c-97ff-15e66d51252a"
      },
      "execution_count": null,
      "outputs": [
        {
          "output_type": "execute_result",
          "data": {
            "text/plain": [
              "0       16503\n",
              "2010     2133\n",
              "2008     2124\n",
              "2009     2027\n",
              "2000     1682\n",
              "2007     1275\n",
              "2006     1174\n",
              "2003     1035\n",
              "2011     1003\n",
              "2012      883\n",
              "2004      874\n",
              "2002      850\n",
              "1978      840\n",
              "1995      815\n",
              "2005      802\n",
              "1990      781\n",
              "1998      781\n",
              "1999      779\n",
              "1985      740\n",
              "1980      666\n",
              "1996      648\n",
              "1984      631\n",
              "1982      597\n",
              "1994      593\n",
              "1972      558\n",
              "1974      535\n",
              "1992      524\n",
              "1997      521\n",
              "1993      480\n",
              "2001      423\n",
              "1988      423\n",
              "1983      393\n",
              "1986      355\n",
              "1975      349\n",
              "1976      318\n",
              "1970      316\n",
              "1991      256\n",
              "1989      242\n",
              "1987      238\n",
              "1981      182\n",
              "1977      165\n",
              "1979      158\n",
              "1973      146\n",
              "2013      134\n",
              "1971      120\n",
              "1960       87\n",
              "1963       76\n",
              "1967       74\n",
              "1968       58\n",
              "1969       49\n",
              "1964       31\n",
              "1962       27\n",
              "1961       16\n",
              "1965       16\n",
              "1966       14\n",
              "Name: construction_year, dtype: int64"
            ]
          },
          "metadata": {},
          "execution_count": 209
        }
      ]
    },
    {
      "cell_type": "code",
      "source": [
        "dff['population'].value_counts()"
      ],
      "metadata": {
        "colab": {
          "base_uri": "https://localhost:8080/"
        },
        "id": "O0oopLkl3FQu",
        "outputId": "93cd9b5d-ea39-4e6e-d21e-d693cddf5a7d"
      },
      "execution_count": null,
      "outputs": [
        {
          "output_type": "execute_result",
          "data": {
            "text/plain": [
              "0       17048\n",
              "1        5655\n",
              "200      1553\n",
              "150      1512\n",
              "250      1364\n",
              "        ...  \n",
              "1183        1\n",
              "2630        1\n",
              "1745        1\n",
              "633         1\n",
              "736         1\n",
              "Name: population, Length: 971, dtype: int64"
            ]
          },
          "metadata": {},
          "execution_count": 210
        }
      ]
    },
    {
      "cell_type": "code",
      "source": [
        "dff['latitude'].value_counts()"
      ],
      "metadata": {
        "colab": {
          "base_uri": "https://localhost:8080/"
        },
        "id": "gSDu9bbxFH3K",
        "outputId": "a77e9293-b503-4c00-80c8-593b235ab5a9"
      },
      "execution_count": null,
      "outputs": [
        {
          "output_type": "execute_result",
          "data": {
            "text/plain": [
              "-2.000000e-08    1433\n",
              "-6.992611e+00       2\n",
              "-2.476680e+00       2\n",
              "-6.980216e+00       2\n",
              "-6.989456e+00       2\n",
              "                 ... \n",
              "-1.137387e+01       1\n",
              "-2.922539e+00       1\n",
              "-9.251243e+00       1\n",
              "-1.966011e+00       1\n",
              "-3.211457e+00       1\n",
              "Name: latitude, Length: 46044, dtype: int64"
            ]
          },
          "metadata": {},
          "execution_count": 211
        }
      ]
    },
    {
      "cell_type": "code",
      "source": [
        "dff['region_code'] = dff['region_code'].astype(object)\n",
        "dff['district_code'] = dff['district_code'].astype(object)\n",
        "dff['public_meeting'] = dff['public_meeting'].astype(object)\n",
        "dff['permit'] = dff['permit'].astype(object)"
      ],
      "metadata": {
        "colab": {
          "base_uri": "https://localhost:8080/"
        },
        "id": "0TuIMawtS00I",
        "outputId": "a9659ad7-0db4-42b9-c625-800e0d0fc3bb"
      },
      "execution_count": null,
      "outputs": [
        {
          "output_type": "execute_result",
          "data": {
            "text/plain": [
              "id\n",
              "454       True\n",
              "510       True\n",
              "14146    False\n",
              "47410     True\n",
              "1288      True\n",
              "         ...  \n",
              "68525     True\n",
              "11980    False\n",
              "35778    False\n",
              "49444     True\n",
              "23812     True\n",
              "Name: permit, Length: 47520, dtype: object"
            ]
          },
          "metadata": {},
          "execution_count": 236
        }
      ]
    },
    {
      "cell_type": "code",
      "source": [
        "dff['region_code'].fillna('null', inplace=True)\n",
        "dff['district_code'].fillna('null', inplace=True)\n",
        "dff['public_meeting'].fillna('null', inplace=True)\n",
        "dff['permit'].fillna('null', inplace=True)"
      ],
      "metadata": {
        "id": "7oz4rKNDTWRv"
      },
      "execution_count": null,
      "outputs": []
    },
    {
      "cell_type": "code",
      "source": [
        "dff['region_code'].value_counts()"
      ],
      "metadata": {
        "colab": {
          "base_uri": "https://localhost:8080/"
        },
        "id": "t5HCBBhETuB0",
        "outputId": "dfed4147-f7b3-48cc-dcdb-809cac257911"
      },
      "execution_count": null,
      "outputs": [
        {
          "output_type": "execute_result",
          "data": {
            "text/plain": [
              "11    4259\n",
              "17    4000\n",
              "12    3659\n",
              "3     3466\n",
              "5     3249\n",
              "18    2669\n",
              "2     2430\n",
              "19    2429\n",
              "16    2255\n",
              "10    2105\n",
              "4     2026\n",
              "1     1755\n",
              "13    1664\n",
              "14    1596\n",
              "20    1590\n",
              "15    1454\n",
              "6     1275\n",
              "21    1266\n",
              "80    1002\n",
              "60     839\n",
              "90     722\n",
              "7      654\n",
              "99     343\n",
              "9      309\n",
              "24     262\n",
              "8      241\n",
              "40       1\n",
              "Name: region_code, dtype: int64"
            ]
          },
          "metadata": {},
          "execution_count": 240
        }
      ]
    },
    {
      "cell_type": "code",
      "source": [
        "dff['scheme_management'].fillna('other_null', inplace= True)"
      ],
      "metadata": {
        "id": "0Lrej7zCUdE9"
      },
      "execution_count": null,
      "outputs": []
    },
    {
      "cell_type": "code",
      "source": [
        "dff.isnull().sum()"
      ],
      "metadata": {
        "colab": {
          "base_uri": "https://localhost:8080/"
        },
        "id": "PvkNhXMlUVo3",
        "outputId": "79127168-c604-436f-b305-3d936324963c"
      },
      "execution_count": null,
      "outputs": [
        {
          "output_type": "execute_result",
          "data": {
            "text/plain": [
              "status_group                 0\n",
              "amount_tsh                   0\n",
              "date_recorded                0\n",
              "funder                    2876\n",
              "gps_height                   0\n",
              "installer                 2889\n",
              "longitude                    0\n",
              "latitude                     0\n",
              "wpt_name                     0\n",
              "num_private                  0\n",
              "basin                        0\n",
              "subvillage                 296\n",
              "region                       0\n",
              "region_code                  0\n",
              "district_code                0\n",
              "lga                          0\n",
              "ward                         0\n",
              "population                   0\n",
              "public_meeting               0\n",
              "recorded_by                  0\n",
              "scheme_management            0\n",
              "scheme_name              22523\n",
              "permit                       0\n",
              "construction_year            0\n",
              "extraction_type              0\n",
              "extraction_type_group        0\n",
              "extraction_type_class        0\n",
              "management                   0\n",
              "management_group             0\n",
              "payment                      0\n",
              "payment_type                 0\n",
              "water_quality                0\n",
              "quality_group                0\n",
              "quantity                     0\n",
              "quantity_group               0\n",
              "source                       0\n",
              "source_type                  0\n",
              "source_class                 0\n",
              "waterpoint_type              0\n",
              "waterpoint_type_group        0\n",
              "year_recorded                0\n",
              "pump_age                     0\n",
              "dtype: int64"
            ]
          },
          "metadata": {},
          "execution_count": 243
        }
      ]
    },
    {
      "cell_type": "markdown",
      "source": [
        "### Multicollinearity Support\n"
      ],
      "metadata": {
        "id": "gxmdxZYA0Pxq"
      }
    },
    {
      "cell_type": "code",
      "source": [
        "from scipy.stats import chi2_contingency"
      ],
      "metadata": {
        "id": "OBgnaNPNrgqb"
      },
      "execution_count": null,
      "outputs": []
    },
    {
      "cell_type": "code",
      "source": [
        "chi, p, dof, exp = chi2_contingency(pd.crosstab(dff['lga'], dff['basin']))\n",
        "print(chi, p, dof)"
      ],
      "metadata": {
        "colab": {
          "base_uri": "https://localhost:8080/"
        },
        "id": "1Mp4LoWwHOY5",
        "outputId": "4a6c22c3-ebad-486b-f410-f36db69e32ae"
      },
      "execution_count": null,
      "outputs": [
        {
          "output_type": "stream",
          "name": "stdout",
          "text": [
            "314140.86617225624 0.0 992\n"
          ]
        }
      ]
    },
    {
      "cell_type": "code",
      "source": [
        "chi, p, dof, exp = chi2_contingency(pd.crosstab(dff['lga'], dff['region']))\n",
        "print(chi, p, dof)"
      ],
      "metadata": {
        "colab": {
          "base_uri": "https://localhost:8080/"
        },
        "id": "NP9rEbJNHy34",
        "outputId": "943161f7-b26d-42f7-a186-2e0b0a7979be"
      },
      "execution_count": null,
      "outputs": [
        {
          "output_type": "stream",
          "name": "stdout",
          "text": [
            "950400.0 0.0 2480\n"
          ]
        }
      ]
    },
    {
      "cell_type": "code",
      "source": [
        "chi, p, dof, exp = chi2_contingency(pd.crosstab(dff['lga'], dff['region_code']))\n",
        "print(chi, p, dof)"
      ],
      "metadata": {
        "colab": {
          "base_uri": "https://localhost:8080/"
        },
        "id": "f9K-dgIfJHj6",
        "outputId": "6607452b-e518-47f2-bf81-be1b5f89f78e"
      },
      "execution_count": null,
      "outputs": [
        {
          "output_type": "stream",
          "name": "stdout",
          "text": [
            "1169521.0694630453 0.0 3224\n"
          ]
        }
      ]
    },
    {
      "cell_type": "code",
      "source": [
        "chi, p, dof, exp = chi2_contingency(pd.crosstab(dff['lga'], dff['district_code']))\n",
        "print(chi, p, dof)"
      ],
      "metadata": {
        "colab": {
          "base_uri": "https://localhost:8080/"
        },
        "id": "gSScqFjtJIJk",
        "outputId": "4251a13a-47c7-4f94-d313-edc3d4347fd3"
      },
      "execution_count": null,
      "outputs": [
        {
          "output_type": "stream",
          "name": "stdout",
          "text": [
            "666147.6327948514 0.0 2356\n"
          ]
        }
      ]
    },
    {
      "cell_type": "code",
      "source": [
        ""
      ],
      "metadata": {
        "id": "jDjW-xkaJIps"
      },
      "execution_count": null,
      "outputs": []
    }
  ]
}